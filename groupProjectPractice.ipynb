{
 "cells": [
  {
   "cell_type": "code",
   "execution_count": 1,
   "metadata": {
    "tags": []
   },
   "outputs": [],
   "source": [
    "import pandas as pd\n",
    "import re\n",
    "import numpy as np\n",
    "import string"
   ]
  },
  {
   "cell_type": "code",
   "execution_count": 2,
   "metadata": {
    "tags": []
   },
   "outputs": [],
   "source": [
    "remedy_file0 = pd.read_csv(r\"C:\\Users\\A174411\\Onedrive - Progressive Corporation\\groupProject\\Custom SQL Query (InformationTechnology)_Custom SQL Query.csv\", dtype='object')"
   ]
  },
  {
   "cell_type": "code",
   "execution_count": 3,
   "metadata": {},
   "outputs": [
    {
     "name": "stdout",
     "output_type": "stream",
     "text": [
      "(225491, 12)\n",
      "Index(['Assignee', 'Priority', 'Record Type', 'RecordID', 'Reported_Time',\n",
      "       'Resolved_Date', 'Status', 'Status Reason', 'Submission Type',\n",
      "       'Support_Group', 'Support_Org', 'Text'],\n",
      "      dtype='object')\n"
     ]
    }
   ],
   "source": [
    "remedy_file = remedy_file0.copy(deep=True)\n",
    "print(remedy_file.shape)\n",
    "print(remedy_file.columns)"
   ]
  },
  {
   "cell_type": "code",
   "execution_count": 4,
   "metadata": {
    "tags": []
   },
   "outputs": [],
   "source": [
    "from sklearn.feature_extraction.text import TfidfVectorizer"
   ]
  },
  {
   "cell_type": "code",
   "execution_count": 5,
   "metadata": {},
   "outputs": [],
   "source": [
    "import nltk\n",
    "from nltk.tokenize import sent_tokenize, word_tokenize"
   ]
  },
  {
   "cell_type": "code",
   "execution_count": 6,
   "metadata": {},
   "outputs": [
    {
     "name": "stderr",
     "output_type": "stream",
     "text": [
      "[nltk_data] Error loading stopwords: <urlopen error Tunnel connection\n",
      "[nltk_data]     failed: 407 Proxy Authentication Required>\n",
      "[nltk_data] Error loading punkt: <urlopen error Tunnel connection\n",
      "[nltk_data]     failed: 407 Proxy Authentication Required>\n",
      "[nltk_data] Error loading wordnet: <urlopen error Tunnel connection\n",
      "[nltk_data]     failed: 407 Proxy Authentication Required>\n",
      "[nltk_data] Error loading omw-1.4: <urlopen error Tunnel connection\n",
      "[nltk_data]     failed: 407 Proxy Authentication Required>\n"
     ]
    },
    {
     "data": {
      "text/plain": [
       "False"
      ]
     },
     "execution_count": 6,
     "metadata": {},
     "output_type": "execute_result"
    }
   ],
   "source": [
    "nltk.download(\"stopwords\")\n",
    "nltk.download(\"punkt\")\n",
    "nltk.download(\"wordnet\")\n",
    "nltk.download(\"omw-1.4\")"
   ]
  },
  {
   "cell_type": "code",
   "execution_count": 7,
   "metadata": {},
   "outputs": [
    {
     "data": {
      "text/html": [
       "<div>\n",
       "<style scoped>\n",
       "    .dataframe tbody tr th:only-of-type {\n",
       "        vertical-align: middle;\n",
       "    }\n",
       "\n",
       "    .dataframe tbody tr th {\n",
       "        vertical-align: top;\n",
       "    }\n",
       "\n",
       "    .dataframe thead th {\n",
       "        text-align: right;\n",
       "    }\n",
       "</style>\n",
       "<table border=\"1\" class=\"dataframe\">\n",
       "  <thead>\n",
       "    <tr style=\"text-align: right;\">\n",
       "      <th></th>\n",
       "      <th>Assignee</th>\n",
       "      <th>Priority</th>\n",
       "      <th>Record Type</th>\n",
       "      <th>RecordID</th>\n",
       "      <th>Reported_Time</th>\n",
       "      <th>Resolved_Date</th>\n",
       "      <th>Status</th>\n",
       "      <th>Status Reason</th>\n",
       "      <th>Submission Type</th>\n",
       "      <th>Support_Group</th>\n",
       "      <th>Support_Org</th>\n",
       "      <th>Text</th>\n",
       "    </tr>\n",
       "  </thead>\n",
       "  <tbody>\n",
       "    <tr>\n",
       "      <th>6</th>\n",
       "      <td>William G Pritchard</td>\n",
       "      <td>High</td>\n",
       "      <td>Incident</td>\n",
       "      <td>INC000012547401</td>\n",
       "      <td>5/14/2022 3:35</td>\n",
       "      <td>5/14/2022 7:15</td>\n",
       "      <td>Closed</td>\n",
       "      <td>Automated Resolution Reported</td>\n",
       "      <td>Automated</td>\n",
       "      <td>Systems &amp; Infrastructure T2</td>\n",
       "      <td>Computing</td>\n",
       "      <td>&lt;SERVER&gt; Reported no UF data for past hour</td>\n",
       "    </tr>\n",
       "    <tr>\n",
       "      <th>7</th>\n",
       "      <td>William G Pritchard</td>\n",
       "      <td>High</td>\n",
       "      <td>Incident</td>\n",
       "      <td>INC000012547622</td>\n",
       "      <td>5/14/2022 5:36</td>\n",
       "      <td>5/14/2022 6:11</td>\n",
       "      <td>Closed</td>\n",
       "      <td>Automated Resolution Reported</td>\n",
       "      <td>Automated</td>\n",
       "      <td>Systems &amp; Infrastructure T2</td>\n",
       "      <td>Computing</td>\n",
       "      <td>&lt;SERVER&gt; Reported no UF data for past hour</td>\n",
       "    </tr>\n",
       "    <tr>\n",
       "      <th>8</th>\n",
       "      <td>William G Pritchard</td>\n",
       "      <td>High</td>\n",
       "      <td>Incident</td>\n",
       "      <td>INC000012493989</td>\n",
       "      <td>4/27/2022 6:25</td>\n",
       "      <td>4/27/2022 8:59</td>\n",
       "      <td>Closed</td>\n",
       "      <td>Automated Resolution Reported</td>\n",
       "      <td>Automated</td>\n",
       "      <td>Systems &amp; Infrastructure T2</td>\n",
       "      <td>Computing</td>\n",
       "      <td>No KBA found for this. Received help from Ben ...</td>\n",
       "    </tr>\n",
       "    <tr>\n",
       "      <th>9</th>\n",
       "      <td>William G Pritchard</td>\n",
       "      <td>High</td>\n",
       "      <td>Incident</td>\n",
       "      <td>INC000012493991</td>\n",
       "      <td>4/27/2022 6:25</td>\n",
       "      <td>4/27/2022 8:59</td>\n",
       "      <td>Closed</td>\n",
       "      <td>Automated Resolution Reported</td>\n",
       "      <td>Automated</td>\n",
       "      <td>Systems &amp; Infrastructure T2</td>\n",
       "      <td>Computing</td>\n",
       "      <td>No KBA found for this. Received help from Ben ...</td>\n",
       "    </tr>\n",
       "    <tr>\n",
       "      <th>10</th>\n",
       "      <td>William G Pritchard</td>\n",
       "      <td>High</td>\n",
       "      <td>Incident</td>\n",
       "      <td>INC000012480898</td>\n",
       "      <td>4/23/2022 5:39</td>\n",
       "      <td>4/23/2022 5:51</td>\n",
       "      <td>Closed</td>\n",
       "      <td>Automated Resolution Reported</td>\n",
       "      <td>Automated</td>\n",
       "      <td>Systems &amp; Infrastructure T2</td>\n",
       "      <td>Computing</td>\n",
       "      <td>No KBA in existence for this issue, but INC000...</td>\n",
       "    </tr>\n",
       "  </tbody>\n",
       "</table>\n",
       "</div>"
      ],
      "text/plain": [
       "               Assignee Priority Record Type         RecordID   Reported_Time  \\\n",
       "6   William G Pritchard     High    Incident  INC000012547401  5/14/2022 3:35   \n",
       "7   William G Pritchard     High    Incident  INC000012547622  5/14/2022 5:36   \n",
       "8   William G Pritchard     High    Incident  INC000012493989  4/27/2022 6:25   \n",
       "9   William G Pritchard     High    Incident  INC000012493991  4/27/2022 6:25   \n",
       "10  William G Pritchard     High    Incident  INC000012480898  4/23/2022 5:39   \n",
       "\n",
       "     Resolved_Date  Status                  Status Reason Submission Type  \\\n",
       "6   5/14/2022 7:15  Closed  Automated Resolution Reported       Automated   \n",
       "7   5/14/2022 6:11  Closed  Automated Resolution Reported       Automated   \n",
       "8   4/27/2022 8:59  Closed  Automated Resolution Reported       Automated   \n",
       "9   4/27/2022 8:59  Closed  Automated Resolution Reported       Automated   \n",
       "10  4/23/2022 5:51  Closed  Automated Resolution Reported       Automated   \n",
       "\n",
       "                  Support_Group Support_Org  \\\n",
       "6   Systems & Infrastructure T2   Computing   \n",
       "7   Systems & Infrastructure T2   Computing   \n",
       "8   Systems & Infrastructure T2   Computing   \n",
       "9   Systems & Infrastructure T2   Computing   \n",
       "10  Systems & Infrastructure T2   Computing   \n",
       "\n",
       "                                                 Text  \n",
       "6          <SERVER> Reported no UF data for past hour  \n",
       "7          <SERVER> Reported no UF data for past hour  \n",
       "8   No KBA found for this. Received help from Ben ...  \n",
       "9   No KBA found for this. Received help from Ben ...  \n",
       "10  No KBA in existence for this issue, but INC000...  "
      ]
     },
     "execution_count": 7,
     "metadata": {},
     "output_type": "execute_result"
    }
   ],
   "source": [
    "# REPLACES NULL WITH NaN\n",
    "remedy_file['Text'].replace('', np.nan, inplace=True)\n",
    "#remedy_file.head()\n",
    "\n",
    "# DROPS NaN\n",
    "remedy_file.dropna(subset=['Text'], inplace=True)\n",
    "remedy_file.head()"
   ]
  },
  {
   "cell_type": "code",
   "execution_count": 8,
   "metadata": {},
   "outputs": [
    {
     "name": "stderr",
     "output_type": "stream",
     "text": [
      "c:\\miniconda37\\lib\\site-packages\\ipykernel_launcher.py:4: FutureWarning: The default value of regex will change from True to False in a future version.\n",
      "  after removing the cwd from sys.path.\n"
     ]
    },
    {
     "data": {
      "text/plain": [
       "6                 SERVER  Reported no UF data for past hour\n",
       "7                 SERVER  Reported no UF data for past hour\n",
       "8         No KBA found for this  Received help from Ben ...\n",
       "9         No KBA found for this  Received help from Ben ...\n",
       "10        No KBA in existence for this issue  but INC000...\n",
       "                                ...                        \n",
       "225476    HOBICDBD HOBICRDV OBIDBD03 ARCHIVELOG 20210428...\n",
       "225477                     Health Check on S65AA338 Server \n",
       "225478                    Please reboot DMZ server SMVQWP2D\n",
       "225479    Verifying cabling reseat if necessary for devi...\n",
       "225483    Per Cloud Ops  David Garcia  Event Monitoring ...\n",
       "Name: clean_remedy_file, Length: 155393, dtype: object"
      ]
     },
     "execution_count": 8,
     "metadata": {},
     "output_type": "execute_result"
    }
   ],
   "source": [
    "# CLEANS THE TEXT\n",
    "# clean_remedy_file = remedy_file.translate(str.maketrans('', '', string.punctuation)) #Error. 'DataFrame' object has no attribute 'translate'\n",
    "\n",
    "remedy_file[\"clean_remedy_file\"] = remedy_file['Text'].str.replace('[^\\w\\s]',' ') #works!\n",
    "remedy_file[\"clean_remedy_file\"]"
   ]
  },
  {
   "cell_type": "code",
   "execution_count": 9,
   "metadata": {},
   "outputs": [],
   "source": [
    "from nltk.corpus import stopwords\n",
    "from nltk.tokenize import word_tokenize"
   ]
  },
  {
   "cell_type": "code",
   "execution_count": 55,
   "metadata": {},
   "outputs": [],
   "source": [
    "# BREAK ROW STRING INTO INDIVIDUAL WORDS\n",
    "remedy_file['tokenized_text'] = remedy_file[\"clean_remedy_file\"].apply(word_tokenize)"
   ]
  },
  {
   "cell_type": "code",
   "execution_count": 57,
   "metadata": {},
   "outputs": [
    {
     "data": {
      "text/plain": [
       "6     [SERVER, Reported, no, UF, data, for, past, hour]\n",
       "7     [SERVER, Reported, no, UF, data, for, past, hour]\n",
       "8     [No, KBA, found, for, this, Received, help, fr...\n",
       "9     [No, KBA, found, for, this, Received, help, fr...\n",
       "10    [No, KBA, in, existence, for, this, issue, but...\n",
       "11    [No, KBAs, were, used, I, logged, into, acvcsa...\n",
       "12       [PDWAppliance, SCOM, Reported, Error, Warning]\n",
       "13       [PDWAppliance, SCOM, Reported, Error, Warning]\n",
       "14       [PDWAppliance, SCOM, Reported, Error, Warning]\n",
       "15       [PDWAppliance, SCOM, Reported, Error, Warning]\n",
       "Name: tokenized_text, dtype: object"
      ]
     },
     "execution_count": 57,
     "metadata": {},
     "output_type": "execute_result"
    }
   ],
   "source": [
    "test_list"
   ]
  },
  {
   "cell_type": "code",
   "execution_count": 54,
   "metadata": {},
   "outputs": [
    {
     "name": "stdout",
     "output_type": "stream",
     "text": [
      "Comment counter 1\n",
      "comment ['SERVER', 'Reported', 'no', 'UF', 'data', 'for', 'past', 'hour']\n",
      "word: SERVER\n",
      "word: Reported\n",
      "word: no\n",
      "word: UF\n",
      "word: data\n",
      "word: for\n",
      "word: past\n",
      "word: hour\n",
      "finished parsing commment, final ftilered words list of this specifc comment: ['SERVER', 'Reported', 'UF', 'data', 'past', 'hour']\n",
      "main comment list [['SERVER', 'Reported', 'UF', 'data', 'past', 'hour']]\n",
      "\n",
      "Comment counter 2\n",
      "comment ['SERVER', 'Reported', 'no', 'UF', 'data', 'for', 'past', 'hour']\n",
      "word: SERVER\n",
      "word: Reported\n",
      "word: no\n",
      "word: UF\n",
      "word: data\n",
      "word: for\n",
      "word: past\n",
      "word: hour\n",
      "finished parsing commment, final ftilered words list of this specifc comment: ['SERVER', 'Reported', 'UF', 'data', 'past', 'hour']\n",
      "main comment list [['SERVER', 'Reported', 'UF', 'data', 'past', 'hour'], ['SERVER', 'Reported', 'UF', 'data', 'past', 'hour']]\n",
      "\n",
      "Comment counter 3\n",
      "comment ['No', 'KBA', 'found', 'for', 'this', 'Received', 'help', 'from', 'Ben', 'Reed', 'instead', 'Created', 'Splunk', 'block', 'drained', 'in', 'LTM', 'RDP', 'd', 'into', 'the', 'server', 'launched', 'IIS', 'went', 'into', 'Application', 'Pools', 'and', 'recycled', 'all', 'memo', 'related', 'web', 'services', 'Logged', 'out', 'of', 'the', 'server', 're', 'enabled', 'it', 'in', 'LTM', 'and', 'resolved', 'the', 'ticket']\n",
      "word: No\n",
      "word: KBA\n",
      "word: found\n",
      "word: for\n",
      "word: this\n",
      "word: Received\n",
      "word: help\n",
      "word: from\n",
      "word: Ben\n",
      "word: Reed\n",
      "word: instead\n",
      "word: Created\n",
      "word: Splunk\n",
      "word: block\n",
      "word: drained\n",
      "word: in\n",
      "word: LTM\n",
      "word: RDP\n",
      "word: d\n",
      "word: into\n",
      "word: the\n",
      "word: server\n",
      "word: launched\n",
      "word: IIS\n",
      "word: went\n",
      "word: into\n",
      "word: Application\n",
      "word: Pools\n",
      "word: and\n",
      "word: recycled\n",
      "word: all\n",
      "word: memo\n",
      "word: related\n",
      "word: web\n",
      "word: services\n",
      "word: Logged\n",
      "word: out\n",
      "word: of\n",
      "word: the\n",
      "word: server\n",
      "word: re\n",
      "word: enabled\n",
      "word: it\n",
      "word: in\n",
      "word: LTM\n",
      "word: and\n",
      "word: resolved\n",
      "word: the\n",
      "word: ticket\n",
      "finished parsing commment, final ftilered words list of this specifc comment: ['KBA', 'found', 'Received', 'help', 'Ben', 'Reed', 'instead', 'Created', 'Splunk', 'block', 'drained', 'LTM', 'RDP', 'server', 'launched', 'IIS', 'went', 'Application', 'Pools', 'recycled', 'memo', 'related', 'web', 'services', 'Logged', 'server', 'enabled', 'LTM', 'resolved', 'ticket']\n",
      "main comment list [['SERVER', 'Reported', 'UF', 'data', 'past', 'hour'], ['SERVER', 'Reported', 'UF', 'data', 'past', 'hour'], ['KBA', 'found', 'Received', 'help', 'Ben', 'Reed', 'instead', 'Created', 'Splunk', 'block', 'drained', 'LTM', 'RDP', 'server', 'launched', 'IIS', 'went', 'Application', 'Pools', 'recycled', 'memo', 'related', 'web', 'services', 'Logged', 'server', 'enabled', 'LTM', 'resolved', 'ticket']]\n",
      "\n",
      "Comment counter 4\n",
      "comment ['No', 'KBA', 'found', 'for', 'this', 'Received', 'help', 'from', 'Ben', 'Reed', 'instead', 'Created', 'Splunk', 'block', 'drained', 'in', 'LTM', 'RDP', 'd', 'into', 'the', 'server', 'launched', 'IIS', 'went', 'into', 'Application', 'Pools', 'and', 'recycled', 'all', 'memo', 'related', 'web', 'services', 'Logged', 'out', 'of', 'the', 'server', 're', 'enabled', 'it', 'in', 'LTM', 'and', 'resolved', 'the', 'ticket']\n",
      "word: No\n",
      "word: KBA\n",
      "word: found\n",
      "word: for\n",
      "word: this\n",
      "word: Received\n",
      "word: help\n",
      "word: from\n",
      "word: Ben\n",
      "word: Reed\n",
      "word: instead\n",
      "word: Created\n",
      "word: Splunk\n",
      "word: block\n",
      "word: drained\n",
      "word: in\n",
      "word: LTM\n",
      "word: RDP\n",
      "word: d\n",
      "word: into\n",
      "word: the\n",
      "word: server\n",
      "word: launched\n",
      "word: IIS\n",
      "word: went\n",
      "word: into\n",
      "word: Application\n",
      "word: Pools\n",
      "word: and\n",
      "word: recycled\n",
      "word: all\n",
      "word: memo\n",
      "word: related\n",
      "word: web\n",
      "word: services\n",
      "word: Logged\n",
      "word: out\n",
      "word: of\n",
      "word: the\n",
      "word: server\n",
      "word: re\n",
      "word: enabled\n",
      "word: it\n",
      "word: in\n",
      "word: LTM\n",
      "word: and\n",
      "word: resolved\n",
      "word: the\n",
      "word: ticket\n",
      "finished parsing commment, final ftilered words list of this specifc comment: ['KBA', 'found', 'Received', 'help', 'Ben', 'Reed', 'instead', 'Created', 'Splunk', 'block', 'drained', 'LTM', 'RDP', 'server', 'launched', 'IIS', 'went', 'Application', 'Pools', 'recycled', 'memo', 'related', 'web', 'services', 'Logged', 'server', 'enabled', 'LTM', 'resolved', 'ticket']\n",
      "main comment list [['SERVER', 'Reported', 'UF', 'data', 'past', 'hour'], ['SERVER', 'Reported', 'UF', 'data', 'past', 'hour'], ['KBA', 'found', 'Received', 'help', 'Ben', 'Reed', 'instead', 'Created', 'Splunk', 'block', 'drained', 'LTM', 'RDP', 'server', 'launched', 'IIS', 'went', 'Application', 'Pools', 'recycled', 'memo', 'related', 'web', 'services', 'Logged', 'server', 'enabled', 'LTM', 'resolved', 'ticket'], ['KBA', 'found', 'Received', 'help', 'Ben', 'Reed', 'instead', 'Created', 'Splunk', 'block', 'drained', 'LTM', 'RDP', 'server', 'launched', 'IIS', 'went', 'Application', 'Pools', 'recycled', 'memo', 'related', 'web', 'services', 'Logged', 'server', 'enabled', 'LTM', 'resolved', 'ticket']]\n",
      "\n",
      "Comment counter 5\n",
      "comment ['No', 'KBA', 'in', 'existence', 'for', 'this', 'issue', 'but', 'INC000012119686', 'does', 'point', 'out', 'this', 'issue', 'I', 'RDP', 'd', 'into', 'the', 'server', 'and', 'disk', 'G', 'does', 'have', 'a', 'folder', 'in', 'it', 'specifically', 'named', 'This', 'disk', 'is', 'currently', 'not', 'needed', 'in', 'the', 'cluster', 'chkdsk', 'did', 'not', 'find', 'errors', 'and', 'Disk', 'Management', 'shows', 'G', 'as', 'a', 'healthy', 'partition']\n",
      "word: No\n",
      "word: KBA\n",
      "word: in\n",
      "word: existence\n",
      "word: for\n",
      "word: this\n",
      "word: issue\n",
      "word: but\n",
      "word: INC000012119686\n",
      "word: does\n",
      "word: point\n",
      "word: out\n",
      "word: this\n",
      "word: issue\n",
      "word: I\n",
      "word: RDP\n",
      "word: d\n",
      "word: into\n",
      "word: the\n",
      "word: server\n",
      "word: and\n",
      "word: disk\n",
      "word: G\n",
      "word: does\n",
      "word: have\n",
      "word: a\n",
      "word: folder\n",
      "word: in\n",
      "word: it\n",
      "word: specifically\n",
      "word: named\n",
      "word: This\n",
      "word: disk\n",
      "word: is\n",
      "word: currently\n",
      "word: not\n",
      "word: needed\n",
      "word: in\n",
      "word: the\n",
      "word: cluster\n",
      "word: chkdsk\n",
      "word: did\n",
      "word: not\n",
      "word: find\n",
      "word: errors\n",
      "word: and\n",
      "word: Disk\n",
      "word: Management\n",
      "word: shows\n",
      "word: G\n",
      "word: as\n",
      "word: a\n",
      "word: healthy\n",
      "word: partition\n",
      "finished parsing commment, final ftilered words list of this specifc comment: ['KBA', 'existence', 'issue', 'INC000012119686', 'point', 'issue', 'RDP', 'server', 'disk', 'G', 'folder', 'specifically', 'named', 'disk', 'currently', 'needed', 'cluster', 'chkdsk', 'find', 'errors', 'Disk', 'Management', 'shows', 'G', 'healthy', 'partition']\n",
      "main comment list [['SERVER', 'Reported', 'UF', 'data', 'past', 'hour'], ['SERVER', 'Reported', 'UF', 'data', 'past', 'hour'], ['KBA', 'found', 'Received', 'help', 'Ben', 'Reed', 'instead', 'Created', 'Splunk', 'block', 'drained', 'LTM', 'RDP', 'server', 'launched', 'IIS', 'went', 'Application', 'Pools', 'recycled', 'memo', 'related', 'web', 'services', 'Logged', 'server', 'enabled', 'LTM', 'resolved', 'ticket'], ['KBA', 'found', 'Received', 'help', 'Ben', 'Reed', 'instead', 'Created', 'Splunk', 'block', 'drained', 'LTM', 'RDP', 'server', 'launched', 'IIS', 'went', 'Application', 'Pools', 'recycled', 'memo', 'related', 'web', 'services', 'Logged', 'server', 'enabled', 'LTM', 'resolved', 'ticket'], ['KBA', 'existence', 'issue', 'INC000012119686', 'point', 'issue', 'RDP', 'server', 'disk', 'G', 'folder', 'specifically', 'named', 'disk', 'currently', 'needed', 'cluster', 'chkdsk', 'find', 'errors', 'Disk', 'Management', 'shows', 'G', 'healthy', 'partition']]\n",
      "\n",
      "Comment counter 6\n",
      "comment ['No', 'KBAs', 'were', 'used', 'I', 'logged', 'into', 'acvcsav1', 'and', 'found', 'vcesxvpd24', 'having', 'no', 'alarms', 'or', 'faults']\n",
      "word: No\n",
      "word: KBAs\n",
      "word: were\n",
      "word: used\n",
      "word: I\n",
      "word: logged\n",
      "word: into\n",
      "word: acvcsav1\n",
      "word: and\n",
      "word: found\n",
      "word: vcesxvpd24\n",
      "word: having\n",
      "word: no\n",
      "word: alarms\n",
      "word: or\n",
      "word: faults\n",
      "finished parsing commment, final ftilered words list of this specifc comment: ['KBAs', 'used', 'logged', 'acvcsav1', 'found', 'vcesxvpd24', 'alarms', 'faults']\n",
      "main comment list [['SERVER', 'Reported', 'UF', 'data', 'past', 'hour'], ['SERVER', 'Reported', 'UF', 'data', 'past', 'hour'], ['KBA', 'found', 'Received', 'help', 'Ben', 'Reed', 'instead', 'Created', 'Splunk', 'block', 'drained', 'LTM', 'RDP', 'server', 'launched', 'IIS', 'went', 'Application', 'Pools', 'recycled', 'memo', 'related', 'web', 'services', 'Logged', 'server', 'enabled', 'LTM', 'resolved', 'ticket'], ['KBA', 'found', 'Received', 'help', 'Ben', 'Reed', 'instead', 'Created', 'Splunk', 'block', 'drained', 'LTM', 'RDP', 'server', 'launched', 'IIS', 'went', 'Application', 'Pools', 'recycled', 'memo', 'related', 'web', 'services', 'Logged', 'server', 'enabled', 'LTM', 'resolved', 'ticket'], ['KBA', 'existence', 'issue', 'INC000012119686', 'point', 'issue', 'RDP', 'server', 'disk', 'G', 'folder', 'specifically', 'named', 'disk', 'currently', 'needed', 'cluster', 'chkdsk', 'find', 'errors', 'Disk', 'Management', 'shows', 'G', 'healthy', 'partition'], ['KBAs', 'used', 'logged', 'acvcsav1', 'found', 'vcesxvpd24', 'alarms', 'faults']]\n",
      "\n",
      "Comment counter 7\n",
      "comment ['PDWAppliance', 'SCOM', 'Reported', 'Error', 'Warning']\n",
      "word: PDWAppliance\n",
      "word: SCOM\n",
      "word: Reported\n",
      "word: Error\n",
      "word: Warning\n",
      "finished parsing commment, final ftilered words list of this specifc comment: ['PDWAppliance', 'SCOM', 'Reported', 'Error', 'Warning']\n",
      "main comment list [['SERVER', 'Reported', 'UF', 'data', 'past', 'hour'], ['SERVER', 'Reported', 'UF', 'data', 'past', 'hour'], ['KBA', 'found', 'Received', 'help', 'Ben', 'Reed', 'instead', 'Created', 'Splunk', 'block', 'drained', 'LTM', 'RDP', 'server', 'launched', 'IIS', 'went', 'Application', 'Pools', 'recycled', 'memo', 'related', 'web', 'services', 'Logged', 'server', 'enabled', 'LTM', 'resolved', 'ticket'], ['KBA', 'found', 'Received', 'help', 'Ben', 'Reed', 'instead', 'Created', 'Splunk', 'block', 'drained', 'LTM', 'RDP', 'server', 'launched', 'IIS', 'went', 'Application', 'Pools', 'recycled', 'memo', 'related', 'web', 'services', 'Logged', 'server', 'enabled', 'LTM', 'resolved', 'ticket'], ['KBA', 'existence', 'issue', 'INC000012119686', 'point', 'issue', 'RDP', 'server', 'disk', 'G', 'folder', 'specifically', 'named', 'disk', 'currently', 'needed', 'cluster', 'chkdsk', 'find', 'errors', 'Disk', 'Management', 'shows', 'G', 'healthy', 'partition'], ['KBAs', 'used', 'logged', 'acvcsav1', 'found', 'vcesxvpd24', 'alarms', 'faults'], ['PDWAppliance', 'SCOM', 'Reported', 'Error', 'Warning']]\n",
      "\n",
      "Comment counter 8\n",
      "comment ['PDWAppliance', 'SCOM', 'Reported', 'Error', 'Warning']\n",
      "word: PDWAppliance\n",
      "word: SCOM\n",
      "word: Reported\n",
      "word: Error\n",
      "word: Warning\n",
      "finished parsing commment, final ftilered words list of this specifc comment: ['PDWAppliance', 'SCOM', 'Reported', 'Error', 'Warning']\n",
      "main comment list [['SERVER', 'Reported', 'UF', 'data', 'past', 'hour'], ['SERVER', 'Reported', 'UF', 'data', 'past', 'hour'], ['KBA', 'found', 'Received', 'help', 'Ben', 'Reed', 'instead', 'Created', 'Splunk', 'block', 'drained', 'LTM', 'RDP', 'server', 'launched', 'IIS', 'went', 'Application', 'Pools', 'recycled', 'memo', 'related', 'web', 'services', 'Logged', 'server', 'enabled', 'LTM', 'resolved', 'ticket'], ['KBA', 'found', 'Received', 'help', 'Ben', 'Reed', 'instead', 'Created', 'Splunk', 'block', 'drained', 'LTM', 'RDP', 'server', 'launched', 'IIS', 'went', 'Application', 'Pools', 'recycled', 'memo', 'related', 'web', 'services', 'Logged', 'server', 'enabled', 'LTM', 'resolved', 'ticket'], ['KBA', 'existence', 'issue', 'INC000012119686', 'point', 'issue', 'RDP', 'server', 'disk', 'G', 'folder', 'specifically', 'named', 'disk', 'currently', 'needed', 'cluster', 'chkdsk', 'find', 'errors', 'Disk', 'Management', 'shows', 'G', 'healthy', 'partition'], ['KBAs', 'used', 'logged', 'acvcsav1', 'found', 'vcesxvpd24', 'alarms', 'faults'], ['PDWAppliance', 'SCOM', 'Reported', 'Error', 'Warning'], ['PDWAppliance', 'SCOM', 'Reported', 'Error', 'Warning']]\n",
      "\n",
      "Comment counter 9\n",
      "comment ['PDWAppliance', 'SCOM', 'Reported', 'Error', 'Warning']\n",
      "word: PDWAppliance\n",
      "word: SCOM\n",
      "word: Reported\n",
      "word: Error\n",
      "word: Warning\n",
      "finished parsing commment, final ftilered words list of this specifc comment: ['PDWAppliance', 'SCOM', 'Reported', 'Error', 'Warning']\n",
      "main comment list [['SERVER', 'Reported', 'UF', 'data', 'past', 'hour'], ['SERVER', 'Reported', 'UF', 'data', 'past', 'hour'], ['KBA', 'found', 'Received', 'help', 'Ben', 'Reed', 'instead', 'Created', 'Splunk', 'block', 'drained', 'LTM', 'RDP', 'server', 'launched', 'IIS', 'went', 'Application', 'Pools', 'recycled', 'memo', 'related', 'web', 'services', 'Logged', 'server', 'enabled', 'LTM', 'resolved', 'ticket'], ['KBA', 'found', 'Received', 'help', 'Ben', 'Reed', 'instead', 'Created', 'Splunk', 'block', 'drained', 'LTM', 'RDP', 'server', 'launched', 'IIS', 'went', 'Application', 'Pools', 'recycled', 'memo', 'related', 'web', 'services', 'Logged', 'server', 'enabled', 'LTM', 'resolved', 'ticket'], ['KBA', 'existence', 'issue', 'INC000012119686', 'point', 'issue', 'RDP', 'server', 'disk', 'G', 'folder', 'specifically', 'named', 'disk', 'currently', 'needed', 'cluster', 'chkdsk', 'find', 'errors', 'Disk', 'Management', 'shows', 'G', 'healthy', 'partition'], ['KBAs', 'used', 'logged', 'acvcsav1', 'found', 'vcesxvpd24', 'alarms', 'faults'], ['PDWAppliance', 'SCOM', 'Reported', 'Error', 'Warning'], ['PDWAppliance', 'SCOM', 'Reported', 'Error', 'Warning'], ['PDWAppliance', 'SCOM', 'Reported', 'Error', 'Warning']]\n",
      "\n",
      "Comment counter 10\n",
      "comment ['PDWAppliance', 'SCOM', 'Reported', 'Error', 'Warning']\n",
      "word: PDWAppliance\n",
      "word: SCOM\n",
      "word: Reported\n",
      "word: Error\n",
      "word: Warning\n",
      "finished parsing commment, final ftilered words list of this specifc comment: ['PDWAppliance', 'SCOM', 'Reported', 'Error', 'Warning']\n",
      "main comment list [['SERVER', 'Reported', 'UF', 'data', 'past', 'hour'], ['SERVER', 'Reported', 'UF', 'data', 'past', 'hour'], ['KBA', 'found', 'Received', 'help', 'Ben', 'Reed', 'instead', 'Created', 'Splunk', 'block', 'drained', 'LTM', 'RDP', 'server', 'launched', 'IIS', 'went', 'Application', 'Pools', 'recycled', 'memo', 'related', 'web', 'services', 'Logged', 'server', 'enabled', 'LTM', 'resolved', 'ticket'], ['KBA', 'found', 'Received', 'help', 'Ben', 'Reed', 'instead', 'Created', 'Splunk', 'block', 'drained', 'LTM', 'RDP', 'server', 'launched', 'IIS', 'went', 'Application', 'Pools', 'recycled', 'memo', 'related', 'web', 'services', 'Logged', 'server', 'enabled', 'LTM', 'resolved', 'ticket'], ['KBA', 'existence', 'issue', 'INC000012119686', 'point', 'issue', 'RDP', 'server', 'disk', 'G', 'folder', 'specifically', 'named', 'disk', 'currently', 'needed', 'cluster', 'chkdsk', 'find', 'errors', 'Disk', 'Management', 'shows', 'G', 'healthy', 'partition'], ['KBAs', 'used', 'logged', 'acvcsav1', 'found', 'vcesxvpd24', 'alarms', 'faults'], ['PDWAppliance', 'SCOM', 'Reported', 'Error', 'Warning'], ['PDWAppliance', 'SCOM', 'Reported', 'Error', 'Warning'], ['PDWAppliance', 'SCOM', 'Reported', 'Error', 'Warning'], ['PDWAppliance', 'SCOM', 'Reported', 'Error', 'Warning']]\n",
      "\n"
     ]
    }
   ],
   "source": [
    "# REMOVE STOPWORDS FROM LISTS AND APPEND RESULT TO FILTERED_TEXT\n",
    "stop_words = set(stopwords.words('english'))\n",
    "word_tokens = remedy_file['tokenized_text']\n",
    "test_list = word_tokens[:10]\n",
    "# test_list = ['a', 'the', 'dog', 'cat', 'bus']\n",
    "filtered_comments = []\n",
    "\n",
    "counter = 0\n",
    "\n",
    "# for each comment (list)\n",
    "for comment in test_list:\n",
    "#for comment in work_tokens:\n",
    "    counter += 1\n",
    "    print('Comment counter', counter)\n",
    "    print('comment', comment)\n",
    "    # make an empty list to hold the nonstopwords of the specific comment \n",
    "    filtered_words = []\n",
    "    # for each individual word in the comment list\n",
    "    for word in comment:\n",
    "    # if the individual word in the current comment is NOT a stop word, add it the filtered_words list\n",
    "        print(\"word:\", word)\n",
    "        if str(word).lower() not in stop_words: \n",
    "            filtered_words.append(word)\n",
    "    print('finished parsing commment, final ftilered words list of this specifc comment:', filtered_words,)\n",
    "    filtered_comments.append(filtered_words)\n",
    "    print(\"main comment list\", filtered_comments)\n",
    "    print()\n",
    "#filtered_Text"
   ]
  },
  {
   "cell_type": "code",
   "execution_count": 59,
   "metadata": {},
   "outputs": [],
   "source": [
    "flat_list = []\n",
    "\n",
    "for lists in filtered_comments:\n",
    "    for words in lists:\n",
    "        flat_list.append(words)\n",
    "#flat_list"
   ]
  },
  {
   "cell_type": "code",
   "execution_count": null,
   "metadata": {},
   "outputs": [],
   "source": [
    "# Need word lemmenization / stemming"
   ]
  },
  {
   "cell_type": "markdown",
   "metadata": {},
   "source": []
  },
  {
   "cell_type": "code",
   "execution_count": 26,
   "metadata": {},
   "outputs": [],
   "source": [
    "import matplotlib.pyplot as plt\n",
    "from nltk.probability import FreqDist"
   ]
  },
  {
   "cell_type": "code",
   "execution_count": 30,
   "metadata": {},
   "outputs": [
    {
     "data": {
      "text/plain": [
       "FreqDist({'Reported': 6, 'server': 5, 'LTM': 4, 'PDWAppliance': 4, 'SCOM': 4, 'Error': 4, 'Warning': 4, 'KBA': 3, 'found': 3, 'RDP': 3, ...})"
      ]
     },
     "execution_count": 30,
     "metadata": {},
     "output_type": "execute_result"
    }
   ],
   "source": [
    "fdist = FreqDist(flat_list)\n",
    "fdist"
   ]
  },
  {
   "cell_type": "code",
   "execution_count": null,
   "metadata": {},
   "outputs": [],
   "source": [
    "fdist.most_common(2)"
   ]
  },
  {
   "cell_type": "code",
   "execution_count": 31,
   "metadata": {},
   "outputs": [
    {
     "data": {
      "image/png": "[encoded data removed]",
      "text/plain": [
       "<Figure size 432x288 with 1 Axes>"
      ]
     },
     "metadata": {
      "needs_background": "light"
     },
     "output_type": "display_data"
    }
   ],
   "source": [
    "fdist.plot(30 , cumulative=False)\n",
    "plt.show()\n",
    "# consider using a bar graph instead"
   ]
  },
  {
   "cell_type": "code",
   "execution_count": null,
   "metadata": {},
   "outputs": [],
   "source": [
    "# sentiment analysis(?)"
   ]
  },
  {
   "cell_type": "code",
   "execution_count": null,
   "metadata": {},
   "outputs": [],
   "source": []
  }
 ],
 "metadata": {
  "kernelspec": {
   "display_name": "Python 3 (ipykernel)",
   "language": "python",
   "name": "python3"
  },
  "language_info": {
   "codemirror_mode": {
    "name": "ipython",
    "version": 3
   },
   "file_extension": ".py",
   "mimetype": "text/x-python",
   "name": "python",
   "nbconvert_exporter": "python",
   "pygments_lexer": "ipython3",
   "version": "3.7.4"
  }
 },
 "nbformat": 4,
 "nbformat_minor": 4
}
