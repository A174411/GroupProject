{
 "cells": [
  {
   "cell_type": "markdown",
   "metadata": {},
   "source": [
    "## Download Libraries"
   ]
  },
  {
   "cell_type": "code",
   "execution_count": null,
   "metadata": {},
   "outputs": [],
   "source": [
    "!pip install pyLDAvis"
   ]
  },
  {
   "cell_type": "code",
   "execution_count": null,
   "metadata": {},
   "outputs": [],
   "source": [
    "!pip install h2o"
   ]
  },
  {
   "cell_type": "code",
   "execution_count": null,
   "metadata": {},
   "outputs": [],
   "source": [
    "!pip install gensim"
   ]
  },
  {
   "cell_type": "markdown",
   "metadata": {},
   "source": [
    "## Import libraries"
   ]
  },
  {
   "cell_type": "code",
   "execution_count": 1,
   "metadata": {
    "tags": []
   },
   "outputs": [
    {
     "name": "stdout",
     "output_type": "stream",
     "text": [
      "Checking whether there is an H2O instance running at http://localhost:54321 ."
     ]
    },
    {
     "name": "stderr",
     "output_type": "stream",
     "text": [
      "c:\\miniconda37\\lib\\site-packages\\h2o\\backend\\connection.py:371: UserWarning: Proxy is defined in the environment: HTTP_PROXY. This may interfere with your H2O Connection.\n",
      "  \"This may interfere with your H2O Connection.\" % name)\n"
     ]
    },
    {
     "name": "stdout",
     "output_type": "stream",
     "text": [
      " connected.\n"
     ]
    },
    {
     "data": {
      "text/html": [
       "<div style=\"overflow:auto\"><table style=\"width:50%\"><tr><td>H2O_cluster_uptime:</td>\n",
       "<td>2 days 3 hours 33 mins</td></tr>\n",
       "<tr><td>H2O_cluster_timezone:</td>\n",
       "<td>America/New_York</td></tr>\n",
       "<tr><td>H2O_data_parsing_timezone:</td>\n",
       "<td>UTC</td></tr>\n",
       "<tr><td>H2O_cluster_version:</td>\n",
       "<td>3.36.1.2</td></tr>\n",
       "<tr><td>H2O_cluster_version_age:</td>\n",
       "<td>28 days, 22 hours and 2 minutes </td></tr>\n",
       "<tr><td>H2O_cluster_name:</td>\n",
       "<td>H2O_from_python_A174411_lufbsv</td></tr>\n",
       "<tr><td>H2O_cluster_total_nodes:</td>\n",
       "<td>1</td></tr>\n",
       "<tr><td>H2O_cluster_free_memory:</td>\n",
       "<td>87.5 Mb</td></tr>\n",
       "<tr><td>H2O_cluster_total_cores:</td>\n",
       "<td>8</td></tr>\n",
       "<tr><td>H2O_cluster_allowed_cores:</td>\n",
       "<td>8</td></tr>\n",
       "<tr><td>H2O_cluster_status:</td>\n",
       "<td>locked, healthy</td></tr>\n",
       "<tr><td>H2O_connection_url:</td>\n",
       "<td>http://localhost:54321</td></tr>\n",
       "<tr><td>H2O_connection_proxy:</td>\n",
       "<td>{\"http\": null, \"https\": null}</td></tr>\n",
       "<tr><td>H2O_internal_security:</td>\n",
       "<td>False</td></tr>\n",
       "<tr><td>Python_version:</td>\n",
       "<td>3.7.4 final</td></tr></table></div>"
      ],
      "text/plain": [
       "--------------------------  -------------------------------\n",
       "H2O_cluster_uptime:         2 days 3 hours 33 mins\n",
       "H2O_cluster_timezone:       America/New_York\n",
       "H2O_data_parsing_timezone:  UTC\n",
       "H2O_cluster_version:        3.36.1.2\n",
       "H2O_cluster_version_age:    28 days, 22 hours and 2 minutes\n",
       "H2O_cluster_name:           H2O_from_python_A174411_lufbsv\n",
       "H2O_cluster_total_nodes:    1\n",
       "H2O_cluster_free_memory:    87.5 Mb\n",
       "H2O_cluster_total_cores:    8\n",
       "H2O_cluster_allowed_cores:  8\n",
       "H2O_cluster_status:         locked, healthy\n",
       "H2O_connection_url:         http://localhost:54321\n",
       "H2O_connection_proxy:       {\"http\": null, \"https\": null}\n",
       "H2O_internal_security:      False\n",
       "Python_version:             3.7.4 final\n",
       "--------------------------  -------------------------------"
      ]
     },
     "metadata": {},
     "output_type": "display_data"
    }
   ],
   "source": [
    "import pandas as pd\n",
    "import re\n",
    "import numpy as np\n",
    "import string\n",
    "from collections import Counter\n",
    "from pprint import pprint\n",
    "\n",
    "#Gensim\n",
    "import gensim\n",
    "from gensim.utils import simple_preprocess\n",
    "from gensim.parsing.preprocessing import STOPWORDS\n",
    "from gensim import corpora, models\n",
    "from gensim.models import CoherenceModel\n",
    "\n",
    "import matplotlib.pyplot as plt\n",
    "\n",
    "# NLTK\n",
    "import nltk\n",
    "from nltk.probability import FreqDist\n",
    "from nltk.stem import WordNetLemmatizer, SnowballStemmer\n",
    "from nltk.tokenize import sent_tokenize, word_tokenize\n",
    "from nltk.corpus import stopwords\n",
    "\n",
    "# H2O\n",
    "import h2o\n",
    "from h2o.estimators import H2ORandomForestEstimator\n",
    "h2o.init()\n",
    "\n",
    "# Sci-kit Learn\n",
    "from sklearn.feature_extraction.text import TfidfVectorizer\n",
    "from sklearn.model_selection import train_test_split\n",
    "from sklearn.ensemble import RandomForestClassifier\n",
    "from sklearn.feature_extraction.text import CountVectorizer\n",
    "from sklearn.preprocessing import LabelEncoder\n",
    "\n",
    "# Plotting Libraries\n",
    "import pyLDAvis\n",
    "import pyLDAvis.gensim_models"
   ]
  },
  {
   "cell_type": "code",
   "execution_count": 2,
   "metadata": {},
   "outputs": [
    {
     "name": "stderr",
     "output_type": "stream",
     "text": [
      "[nltk_data] Downloading package stopwords to\n",
      "[nltk_data]     C:\\Users\\A174411\\AppData\\Roaming\\nltk_data...\n",
      "[nltk_data]   Package stopwords is already up-to-date!\n",
      "[nltk_data] Downloading package punkt to\n",
      "[nltk_data]     C:\\Users\\A174411\\AppData\\Roaming\\nltk_data...\n",
      "[nltk_data]   Package punkt is already up-to-date!\n",
      "[nltk_data] Downloading package wordnet to\n",
      "[nltk_data]     C:\\Users\\A174411\\AppData\\Roaming\\nltk_data...\n",
      "[nltk_data]   Package wordnet is already up-to-date!\n",
      "[nltk_data] Downloading package omw-1.4 to\n",
      "[nltk_data]     C:\\Users\\A174411\\AppData\\Roaming\\nltk_data...\n",
      "[nltk_data]   Package omw-1.4 is already up-to-date!\n"
     ]
    },
    {
     "data": {
      "text/plain": [
       "True"
      ]
     },
     "execution_count": 2,
     "metadata": {},
     "output_type": "execute_result"
    }
   ],
   "source": [
    "nltk.download(\"stopwords\")\n",
    "nltk.download(\"punkt\")\n",
    "nltk.download(\"wordnet\")\n",
    "nltk.download(\"omw-1.4\")"
   ]
  },
  {
   "cell_type": "markdown",
   "metadata": {},
   "source": [
    "## Load Dataset and Make Copy of File"
   ]
  },
  {
   "cell_type": "code",
   "execution_count": 3,
   "metadata": {
    "tags": []
   },
   "outputs": [],
   "source": [
    "remedy_file0 = pd.read_csv(r\"C:\\Users\\A174411\\Onedrive - Progressive Corporation\\groupProject\\UPDATEDCustom SQL Query.csv\", dtype='object')"
   ]
  },
  {
   "cell_type": "code",
   "execution_count": 4,
   "metadata": {},
   "outputs": [
    {
     "data": {
      "text/html": [
       "<div>\n",
       "<style scoped>\n",
       "    .dataframe tbody tr th:only-of-type {\n",
       "        vertical-align: middle;\n",
       "    }\n",
       "\n",
       "    .dataframe tbody tr th {\n",
       "        vertical-align: top;\n",
       "    }\n",
       "\n",
       "    .dataframe thead th {\n",
       "        text-align: right;\n",
       "    }\n",
       "</style>\n",
       "<table border=\"1\" class=\"dataframe\">\n",
       "  <thead>\n",
       "    <tr style=\"text-align: right;\">\n",
       "      <th></th>\n",
       "      <th>Assignee</th>\n",
       "      <th>Notes_Text</th>\n",
       "      <th>Priority</th>\n",
       "      <th>Record Type</th>\n",
       "      <th>RecordID</th>\n",
       "      <th>Reported_Date_Time</th>\n",
       "      <th>Resolution_Text</th>\n",
       "      <th>Resolved_Date_Time</th>\n",
       "      <th>Status</th>\n",
       "      <th>Status Reason</th>\n",
       "      <th>Submission Type</th>\n",
       "      <th>Summary_Text</th>\n",
       "      <th>Support_Group</th>\n",
       "      <th>Support_Org</th>\n",
       "    </tr>\n",
       "  </thead>\n",
       "  <tbody>\n",
       "    <tr>\n",
       "      <th>0</th>\n",
       "      <td>NaN</td>\n",
       "      <td>SRQDDP05 Reported no UF data for past hour. Se...</td>\n",
       "      <td>High</td>\n",
       "      <td>Incident</td>\n",
       "      <td>INC000011182959</td>\n",
       "      <td>2/1/2021 10:09:29 AM</td>\n",
       "      <td>NaN</td>\n",
       "      <td>2/1/2021 4:49:34 PM</td>\n",
       "      <td>Closed</td>\n",
       "      <td>Automated Resolution Reported</td>\n",
       "      <td>Automated</td>\n",
       "      <td>SRQDDP05 Reported no UF data for past hour</td>\n",
       "      <td>Systems &amp; Infrastructure T2</td>\n",
       "      <td>Computing</td>\n",
       "    </tr>\n",
       "    <tr>\n",
       "      <th>1</th>\n",
       "      <td>NaN</td>\n",
       "      <td>A web test monitor returned an error code that...</td>\n",
       "      <td>High</td>\n",
       "      <td>Incident</td>\n",
       "      <td>INC000011644117</td>\n",
       "      <td>7/9/2021 12:38:21 AM</td>\n",
       "      <td>NaN</td>\n",
       "      <td>7/9/2021 12:43:17 AM</td>\n",
       "      <td>Closed</td>\n",
       "      <td>Automated Resolution Reported</td>\n",
       "      <td>Automated</td>\n",
       "      <td>SRQDDP05 SCOMURL Reported error Content Matche...</td>\n",
       "      <td>Systems &amp; Infrastructure T2</td>\n",
       "      <td>Computing</td>\n",
       "    </tr>\n",
       "    <tr>\n",
       "      <th>2</th>\n",
       "      <td>NaN</td>\n",
       "      <td>A web test monitor returned an error code that...</td>\n",
       "      <td>High</td>\n",
       "      <td>Incident</td>\n",
       "      <td>INC000011662455</td>\n",
       "      <td>7/16/2021 12:38:23 AM</td>\n",
       "      <td>NaN</td>\n",
       "      <td>7/16/2021 12:41:14 AM</td>\n",
       "      <td>Closed</td>\n",
       "      <td>Automated Resolution Reported</td>\n",
       "      <td>Automated</td>\n",
       "      <td>SRQDDP05 SCOMURL Reported error Content Matche...</td>\n",
       "      <td>Systems &amp; Infrastructure T2</td>\n",
       "      <td>Computing</td>\n",
       "    </tr>\n",
       "    <tr>\n",
       "      <th>3</th>\n",
       "      <td>NaN</td>\n",
       "      <td>SRQDDP06 Reported no UF data for past hour. Se...</td>\n",
       "      <td>High</td>\n",
       "      <td>Incident</td>\n",
       "      <td>INC000011182820</td>\n",
       "      <td>2/1/2021 10:09:19 AM</td>\n",
       "      <td>NaN</td>\n",
       "      <td>2/1/2021 3:23:47 PM</td>\n",
       "      <td>Closed</td>\n",
       "      <td>Automated Resolution Reported</td>\n",
       "      <td>Automated</td>\n",
       "      <td>SRQDDP06 Reported no UF data for past hour</td>\n",
       "      <td>Systems &amp; Infrastructure T2</td>\n",
       "      <td>Computing</td>\n",
       "    </tr>\n",
       "    <tr>\n",
       "      <th>4</th>\n",
       "      <td>NaN</td>\n",
       "      <td>SRQDDP07 Reported no UF data for past hour. Se...</td>\n",
       "      <td>High</td>\n",
       "      <td>Incident</td>\n",
       "      <td>INC000011182756</td>\n",
       "      <td>2/1/2021 10:09:21 AM</td>\n",
       "      <td>NaN</td>\n",
       "      <td>2/1/2021 4:03:26 PM</td>\n",
       "      <td>Closed</td>\n",
       "      <td>Automated Resolution Reported</td>\n",
       "      <td>Automated</td>\n",
       "      <td>SRQDDP07 Reported no UF data for past hour</td>\n",
       "      <td>Systems &amp; Infrastructure T2</td>\n",
       "      <td>Computing</td>\n",
       "    </tr>\n",
       "  </tbody>\n",
       "</table>\n",
       "</div>"
      ],
      "text/plain": [
       "  Assignee                                         Notes_Text Priority  \\\n",
       "0      NaN  SRQDDP05 Reported no UF data for past hour. Se...     High   \n",
       "1      NaN  A web test monitor returned an error code that...     High   \n",
       "2      NaN  A web test monitor returned an error code that...     High   \n",
       "3      NaN  SRQDDP06 Reported no UF data for past hour. Se...     High   \n",
       "4      NaN  SRQDDP07 Reported no UF data for past hour. Se...     High   \n",
       "\n",
       "  Record Type         RecordID     Reported_Date_Time Resolution_Text  \\\n",
       "0    Incident  INC000011182959   2/1/2021 10:09:29 AM             NaN   \n",
       "1    Incident  INC000011644117   7/9/2021 12:38:21 AM             NaN   \n",
       "2    Incident  INC000011662455  7/16/2021 12:38:23 AM             NaN   \n",
       "3    Incident  INC000011182820   2/1/2021 10:09:19 AM             NaN   \n",
       "4    Incident  INC000011182756   2/1/2021 10:09:21 AM             NaN   \n",
       "\n",
       "      Resolved_Date_Time  Status                  Status Reason  \\\n",
       "0    2/1/2021 4:49:34 PM  Closed  Automated Resolution Reported   \n",
       "1   7/9/2021 12:43:17 AM  Closed  Automated Resolution Reported   \n",
       "2  7/16/2021 12:41:14 AM  Closed  Automated Resolution Reported   \n",
       "3    2/1/2021 3:23:47 PM  Closed  Automated Resolution Reported   \n",
       "4    2/1/2021 4:03:26 PM  Closed  Automated Resolution Reported   \n",
       "\n",
       "  Submission Type                                       Summary_Text  \\\n",
       "0       Automated         SRQDDP05 Reported no UF data for past hour   \n",
       "1       Automated  SRQDDP05 SCOMURL Reported error Content Matche...   \n",
       "2       Automated  SRQDDP05 SCOMURL Reported error Content Matche...   \n",
       "3       Automated         SRQDDP06 Reported no UF data for past hour   \n",
       "4       Automated         SRQDDP07 Reported no UF data for past hour   \n",
       "\n",
       "                 Support_Group Support_Org  \n",
       "0  Systems & Infrastructure T2   Computing  \n",
       "1  Systems & Infrastructure T2   Computing  \n",
       "2  Systems & Infrastructure T2   Computing  \n",
       "3  Systems & Infrastructure T2   Computing  \n",
       "4  Systems & Infrastructure T2   Computing  "
      ]
     },
     "execution_count": 4,
     "metadata": {},
     "output_type": "execute_result"
    }
   ],
   "source": [
    "remedy_file0.head()"
   ]
  },
  {
   "cell_type": "code",
   "execution_count": 5,
   "metadata": {},
   "outputs": [
    {
     "data": {
      "text/plain": [
       "0    SRQDDP05 Reported no UF data for past hour. Se...\n",
       "1    A web test monitor returned an error code that...\n",
       "2    A web test monitor returned an error code that...\n",
       "3    SRQDDP06 Reported no UF data for past hour. Se...\n",
       "4    SRQDDP07 Reported no UF data for past hour. Se...\n",
       "Name: Notes_Text, dtype: object"
      ]
     },
     "execution_count": 5,
     "metadata": {},
     "output_type": "execute_result"
    }
   ],
   "source": [
    "remedy_file0['Notes_Text'].head()"
   ]
  },
  {
   "cell_type": "code",
   "execution_count": 6,
   "metadata": {},
   "outputs": [
    {
     "data": {
      "text/plain": [
       "0           SRQDDP05 Reported no UF data for past hour\n",
       "1    SRQDDP05 SCOMURL Reported error Content Matche...\n",
       "2    SRQDDP05 SCOMURL Reported error Content Matche...\n",
       "3           SRQDDP06 Reported no UF data for past hour\n",
       "4           SRQDDP07 Reported no UF data for past hour\n",
       "Name: Summary_Text, dtype: object"
      ]
     },
     "execution_count": 6,
     "metadata": {},
     "output_type": "execute_result"
    }
   ],
   "source": [
    "remedy_file0['Summary_Text'].head()"
   ]
  },
  {
   "cell_type": "code",
   "execution_count": 7,
   "metadata": {},
   "outputs": [
    {
     "name": "stdout",
     "output_type": "stream",
     "text": [
      "(211149, 14)\n",
      "Index(['Assignee', 'Notes_Text', 'Priority', 'Record Type', 'RecordID',\n",
      "       'Reported_Date_Time', 'Resolution_Text', 'Resolved_Date_Time', 'Status',\n",
      "       'Status Reason', 'Submission Type', 'Summary_Text', 'Support_Group',\n",
      "       'Support_Org'],\n",
      "      dtype='object')\n"
     ]
    }
   ],
   "source": [
    "remedy_file = remedy_file0.copy(deep=True)\n",
    "print(remedy_file.shape)\n",
    "print(remedy_file.columns)"
   ]
  },
  {
   "cell_type": "code",
   "execution_count": 8,
   "metadata": {},
   "outputs": [
    {
     "data": {
      "text/plain": [
       "211144    Customer confirmed server environment normaliz...\n",
       "211145    Transfer appears successful, ticket can be re-...\n",
       "211146    SI - Contacted Customer, was able to resolve i...\n",
       "211147          Resolved after multiple-day IMTs, see notes\n",
       "211148                              Kyle resolved the issue\n",
       "Name: Resolution_Text, dtype: object"
      ]
     },
     "execution_count": 8,
     "metadata": {},
     "output_type": "execute_result"
    }
   ],
   "source": [
    "remedy_file['Resolution_Text'].tail()"
   ]
  },
  {
   "cell_type": "markdown",
   "metadata": {},
   "source": [
    "## Clean, Stem, and Lemmatize the data for LDA"
   ]
  },
  {
   "cell_type": "markdown",
   "metadata": {},
   "source": [
    "<b> Summary Text"
   ]
  },
  {
   "cell_type": "code",
   "execution_count": 9,
   "metadata": {},
   "outputs": [],
   "source": [
    "stemmer = SnowballStemmer(\"english\")"
   ]
  },
  {
   "cell_type": "code",
   "execution_count": 10,
   "metadata": {},
   "outputs": [],
   "source": [
    "def lemmatize_stemming(comment):\n",
    "    return stemmer.stem(WordNetLemmatizer().lemmatize(comment, pos='v'))\n",
    "def preprocess(comment):\n",
    "    result = []\n",
    "    for token in gensim.utils.simple_preprocess(comment):\n",
    "        if token not in gensim.parsing.preprocessing.STOPWORDS and len(token) > 3:\n",
    "            result.append(lemmatize_stemming(token))\n",
    "    return result"
   ]
  },
  {
   "cell_type": "code",
   "execution_count": 11,
   "metadata": {},
   "outputs": [],
   "source": [
    "remedy_file[\"clean_Summary\"] = remedy_file['Summary_Text']"
   ]
  },
  {
   "cell_type": "code",
   "execution_count": 12,
   "metadata": {},
   "outputs": [
    {
     "data": {
      "text/plain": [
       "0           SRQDDP05 Reported no UF data for past hour\n",
       "1    SRQDDP05 SCOMURL Reported error Content Matche...\n",
       "2    SRQDDP05 SCOMURL Reported error Content Matche...\n",
       "3           SRQDDP06 Reported no UF data for past hour\n",
       "4           SRQDDP07 Reported no UF data for past hour\n",
       "Name: clean_Summary, dtype: object"
      ]
     },
     "execution_count": 12,
     "metadata": {},
     "output_type": "execute_result"
    }
   ],
   "source": [
    "# REPLACES NULL WITH NaN\n",
    "remedy_file[\"clean_Summary\"].replace('', np.nan, inplace=True)\n",
    "#remedy_file.head()\n",
    "\n",
    "# DROPS NaN\n",
    "remedy_file[\"clean_Summary\"].dropna()\n",
    "remedy_file[\"clean_Summary\"].head()"
   ]
  },
  {
   "cell_type": "code",
   "execution_count": 13,
   "metadata": {},
   "outputs": [],
   "source": [
    "processed_Summary = remedy_file[\"clean_Summary\"].map(preprocess) # map returns a list of the results after applying the given function to each item of a given iterable (list, tuple etc.)"
   ]
  },
  {
   "cell_type": "code",
   "execution_count": 14,
   "metadata": {},
   "outputs": [
    {
     "data": {
      "text/plain": [
       "0                   [srqddp, report, data, past, hour]\n",
       "1    [srqddp, scomurl, report, error, content, matc...\n",
       "2    [srqddp, scomurl, report, error, content, matc...\n",
       "3                   [srqddp, report, data, past, hour]\n",
       "4                   [srqddp, report, data, past, hour]\n",
       "5    [srqddp, scomurl, report, error, content, matc...\n",
       "6    [srqddp, scomurl, report, error, content, matc...\n",
       "7                   [srqddp, report, data, past, hour]\n",
       "8                   [srqddp, report, data, past, hour]\n",
       "9                   [srqdwg, report, data, past, hour]\n",
       "Name: clean_Summary, dtype: object"
      ]
     },
     "execution_count": 14,
     "metadata": {},
     "output_type": "execute_result"
    }
   ],
   "source": [
    "processed_Summary[:10]"
   ]
  },
  {
   "cell_type": "markdown",
   "metadata": {},
   "source": [
    "<b> Resolution Text"
   ]
  },
  {
   "cell_type": "code",
   "execution_count": 15,
   "metadata": {},
   "outputs": [
    {
     "name": "stderr",
     "output_type": "stream",
     "text": [
      "<>:1: DeprecationWarning: invalid escape sequence \\w\n",
      "<>:1: DeprecationWarning: invalid escape sequence \\w\n",
      "<>:1: DeprecationWarning: invalid escape sequence \\w\n",
      "C:\\Users\\A174411\\AppData\\Local\\Temp\\ipykernel_23004\\3330310722.py:1: DeprecationWarning: invalid escape sequence \\w\n",
      "  remedy_file[\"clean_Resolution\"] = remedy_file['Resolution_Text'].str.replace('[^\\w\\s]','')\n",
      "c:\\miniconda37\\lib\\site-packages\\ipykernel_launcher.py:1: FutureWarning: The default value of regex will change from True to False in a future version.\n",
      "  \"\"\"Entry point for launching an IPython kernel.\n"
     ]
    }
   ],
   "source": [
    "remedy_file[\"clean_Resolution\"] = remedy_file['Resolution_Text'].str.replace('[^\\w\\s]','')"
   ]
  },
  {
   "cell_type": "code",
   "execution_count": 16,
   "metadata": {},
   "outputs": [
    {
     "data": {
      "text/plain": [
       "0    NaN\n",
       "1    NaN\n",
       "2    NaN\n",
       "3    NaN\n",
       "4    NaN\n",
       "Name: clean_Resolution, dtype: object"
      ]
     },
     "execution_count": 16,
     "metadata": {},
     "output_type": "execute_result"
    }
   ],
   "source": [
    "# REPLACES NULL WITH NaN\n",
    "remedy_file[\"clean_Resolution\"].replace('', np.NaN, inplace=True)\n",
    "#remedy_file.head()\n",
    "\n",
    "# DROPS NaN\n",
    "remedy_file[\"clean_Resolution\"].dropna()\n",
    "remedy_file[\"clean_Resolution\"].head()"
   ]
  },
  {
   "cell_type": "code",
   "execution_count": 17,
   "metadata": {},
   "outputs": [],
   "source": [
    "remedy_file[\"clean_Resolution\"] =str(remedy_file[\"clean_Resolution\"])"
   ]
  },
  {
   "cell_type": "code",
   "execution_count": 18,
   "metadata": {},
   "outputs": [],
   "source": [
    "processed_Resolution = remedy_file[\"clean_Resolution\"].map(preprocess)"
   ]
  },
  {
   "cell_type": "code",
   "execution_count": 19,
   "metadata": {},
   "outputs": [
    {
     "data": {
      "text/plain": [
       "0    [custom, confirm, server, environ, normaliz, t...\n",
       "1    [custom, confirm, server, environ, normaliz, t...\n",
       "2    [custom, confirm, server, environ, normaliz, t...\n",
       "3    [custom, confirm, server, environ, normaliz, t...\n",
       "4    [custom, confirm, server, environ, normaliz, t...\n",
       "5    [custom, confirm, server, environ, normaliz, t...\n",
       "6    [custom, confirm, server, environ, normaliz, t...\n",
       "7    [custom, confirm, server, environ, normaliz, t...\n",
       "8    [custom, confirm, server, environ, normaliz, t...\n",
       "9    [custom, confirm, server, environ, normaliz, t...\n",
       "Name: clean_Resolution, dtype: object"
      ]
     },
     "execution_count": 19,
     "metadata": {},
     "output_type": "execute_result"
    }
   ],
   "source": [
    "processed_Resolution[:10]"
   ]
  },
  {
   "cell_type": "markdown",
   "metadata": {},
   "source": [
    "<b> Notes Text"
   ]
  },
  {
   "cell_type": "code",
   "execution_count": 20,
   "metadata": {},
   "outputs": [
    {
     "name": "stderr",
     "output_type": "stream",
     "text": [
      "<>:1: DeprecationWarning: invalid escape sequence \\w\n",
      "<>:1: DeprecationWarning: invalid escape sequence \\w\n",
      "<>:1: DeprecationWarning: invalid escape sequence \\w\n",
      "C:\\Users\\A174411\\AppData\\Local\\Temp\\ipykernel_23004\\2073217072.py:1: DeprecationWarning: invalid escape sequence \\w\n",
      "  remedy_file[\"clean_Notes\"] = remedy_file['Notes_Text'].str.replace('[^\\w\\s]','')\n",
      "c:\\miniconda37\\lib\\site-packages\\ipykernel_launcher.py:1: FutureWarning: The default value of regex will change from True to False in a future version.\n",
      "  \"\"\"Entry point for launching an IPython kernel.\n"
     ]
    }
   ],
   "source": [
    "remedy_file[\"clean_Notes\"] = remedy_file['Notes_Text'].str.replace('[^\\w\\s]','')"
   ]
  },
  {
   "cell_type": "code",
   "execution_count": 21,
   "metadata": {},
   "outputs": [],
   "source": [
    "remedy_file[\"clean_Notes\"] =str(remedy_file[\"clean_Notes\"])"
   ]
  },
  {
   "cell_type": "code",
   "execution_count": 22,
   "metadata": {},
   "outputs": [
    {
     "data": {
      "text/plain": [
       "0    0         SRQDDP05 Reported no UF data for pas...\n",
       "1    0         SRQDDP05 Reported no UF data for pas...\n",
       "2    0         SRQDDP05 Reported no UF data for pas...\n",
       "3    0         SRQDDP05 Reported no UF data for pas...\n",
       "4    0         SRQDDP05 Reported no UF data for pas...\n",
       "Name: clean_Notes, dtype: object"
      ]
     },
     "execution_count": 22,
     "metadata": {},
     "output_type": "execute_result"
    }
   ],
   "source": [
    "# REPLACES NULL WITH NaN\n",
    "remedy_file[\"clean_Notes\"].replace('', np.NaN, inplace=True)\n",
    "#remedy_file.head()\n",
    "\n",
    "# DROPS NaN\n",
    "remedy_file[\"clean_Notes\"].dropna()\n",
    "remedy_file[\"clean_Notes\"].head()"
   ]
  },
  {
   "cell_type": "code",
   "execution_count": 23,
   "metadata": {},
   "outputs": [],
   "source": [
    "processed_Notes = remedy_file[\"clean_Notes\"].map(preprocess)"
   ]
  },
  {
   "cell_type": "code",
   "execution_count": 24,
   "metadata": {},
   "outputs": [
    {
     "data": {
      "text/plain": [
       "0    [srqddp, report, data, past, hour, test, monit...\n",
       "1    [srqddp, report, data, past, hour, test, monit...\n",
       "2    [srqddp, report, data, past, hour, test, monit...\n",
       "3    [srqddp, report, data, past, hour, test, monit...\n",
       "4    [srqddp, report, data, past, hour, test, monit...\n",
       "5    [srqddp, report, data, past, hour, test, monit...\n",
       "6    [srqddp, report, data, past, hour, test, monit...\n",
       "7    [srqddp, report, data, past, hour, test, monit...\n",
       "8    [srqddp, report, data, past, hour, test, monit...\n",
       "9    [srqddp, report, data, past, hour, test, monit...\n",
       "Name: clean_Notes, dtype: object"
      ]
     },
     "execution_count": 24,
     "metadata": {},
     "output_type": "execute_result"
    }
   ],
   "source": [
    "processed_Notes[:10]"
   ]
  },
  {
   "cell_type": "markdown",
   "metadata": {},
   "source": [
    "## Clean and Lemmatize the Data for TF-IDFVectorizer"
   ]
  },
  {
   "cell_type": "markdown",
   "metadata": {},
   "source": [
    "<b> Summary Text"
   ]
  },
  {
   "cell_type": "code",
   "execution_count": null,
   "metadata": {},
   "outputs": [],
   "source": [
    "# # CLEANS THE TEXT\n",
    "# # clean_remedy_file = remedy_file.translate(str.maketrans('', '', string.punctuation)) #Error. 'DataFrame' object has no attribute 'translate'\n",
    "\n",
    "# remedy_file[\"clean_Summary\"] = remedy_file['Summary_Text'].str.replace('[^\\w\\s]',' ') #works!\n",
    "# remedy_file[\"clean_Notes\"] = remedy_file['Notes_Text'].str.replace('[^\\w\\s]','')\n",
    "# remedy_file[\"clean_Resolution\"] = remedy_file['Resolution_Text'].str.replace('[^\\w\\s]','') #works!\n",
    "# remedy_file[\"clean_Resolution\"].tail()"
   ]
  },
  {
   "cell_type": "code",
   "execution_count": null,
   "metadata": {},
   "outputs": [],
   "source": [
    "# # Need word lemmatizing / stemming\n",
    "# lemmatizer = WordNetLemmatizer()\n",
    "# remedy_file[\"clean_Summary\"] = [lemmatizer.lemmatize(comment) for comment in remedy_file[\"clean_Summary\"]]"
   ]
  },
  {
   "cell_type": "code",
   "execution_count": null,
   "metadata": {},
   "outputs": [],
   "source": []
  },
  {
   "cell_type": "code",
   "execution_count": 39,
   "metadata": {},
   "outputs": [],
   "source": [
    "# # BREAK ROW STRING INTO INDIVIDUAL WORDS\n",
    "remedy_file['tokenized_Summary'] = remedy_file[\"clean_Summary\"].apply(word_tokenize)\n",
    "# # remedy_file['tokenized_Notes'] = remedy_file[\"clean_Notes\"].apply(word_tokenize)"
   ]
  },
  {
   "cell_type": "code",
   "execution_count": 40,
   "metadata": {},
   "outputs": [],
   "source": [
    "# REMOVE STOPWORDS FROM LISTS AND APPEND RESULT TO FILTERED_TEXT\n",
    "stop_words = set(stopwords.words('english'))\n",
    "Summary_tokens = remedy_file['tokenized_Summary']\n",
    "# test_list = word_tokens[:10]\n",
    "Summary_filtered_comments = []\n",
    "\n",
    "counter = 0\n",
    "\n",
    "# for each comment (list)\n",
    "for comment in Summary_tokens:\n",
    "#for comment in work_tokens:\n",
    "    counter += 1\n",
    "    # print('Comment counter', counter)\n",
    "    # print('comment', comment)\n",
    "    # make an empty list to hold the nonstopwords of the specific comment \n",
    "    Summary_filtered_words = []\n",
    "    # for each individual word in the comment list\n",
    "    for word in comment:\n",
    "    # if the individual word in the current comment is NOT a stop word, add it the filtered_words list\n",
    "        # print(\"word:\", word)\n",
    "        if str(word).lower() not in stop_words:\n",
    "            if str(word).lower() == 'reported':\n",
    "                continue\n",
    "            else:\n",
    "                Summary_filtered_words.append(word.lower())\n",
    "    # print('finished parsing commment, final ftilered words list of this specifc comment:', filtered_words,)\n",
    "    Summary_filtered_comments.append(Summary_filtered_words)\n",
    "    # print(\"main comment list\", filtered_comments)\n",
    "    # print()\n",
    "#filtered_Text"
   ]
  },
  {
   "cell_type": "code",
   "execution_count": 41,
   "metadata": {},
   "outputs": [],
   "source": [
    "flat_Summary = []\n",
    "\n",
    "for lists in Summary_filtered_comments:\n",
    "    for words in lists:\n",
    "        flat_Summary.append(words)\n",
    "#flat_list"
   ]
  },
  {
   "cell_type": "markdown",
   "metadata": {},
   "source": [
    "## Frequency Distribution Plot\n",
    "<b>Summary Text"
   ]
  },
  {
   "cell_type": "code",
   "execution_count": null,
   "metadata": {},
   "outputs": [],
   "source": [
    "fdist_Summary = FreqDist(flat_Summary)\n",
    "fdist_Summary"
   ]
  },
  {
   "cell_type": "code",
   "execution_count": null,
   "metadata": {},
   "outputs": [],
   "source": [
    "fdist_Summary.most_common(2)"
   ]
  },
  {
   "cell_type": "code",
   "execution_count": null,
   "metadata": {},
   "outputs": [],
   "source": [
    "fdist_Summary.plot(30 , cumulative=False)\n",
    "# fdist_Summary()\n",
    "# consider using a bar graph instead"
   ]
  },
  {
   "cell_type": "code",
   "execution_count": null,
   "metadata": {},
   "outputs": [],
   "source": [
    "# # Plot frequency\n",
    "# counts = Counter(flat_Summary)\n",
    "\n",
    "# labels, values = zip(*Counter(flat_Summary).items())\n",
    "\n",
    "# indexes = np.arange(len(labels))[:30]\n",
    "# width = 1\n",
    "\n",
    "# plt.bar(indexes, values, width)\n",
    "# plt.xticks(indexes + width * 0.5, labels)\n",
    "# plt.show()"
   ]
  },
  {
   "cell_type": "markdown",
   "metadata": {},
   "source": [
    "## Counts of most common line in Summary Text and Resolution Text"
   ]
  },
  {
   "cell_type": "code",
   "execution_count": null,
   "metadata": {},
   "outputs": [],
   "source": [
    "counts_Summary = Counter(remedy_file[\"clean_Summary\"])"
   ]
  },
  {
   "cell_type": "code",
   "execution_count": null,
   "metadata": {},
   "outputs": [],
   "source": [
    "counts_Summary.most_common(30)"
   ]
  },
  {
   "cell_type": "code",
   "execution_count": null,
   "metadata": {},
   "outputs": [],
   "source": [
    "counts_Resolution = Counter(remedy_file[\"clean_Resolution\"])"
   ]
  },
  {
   "cell_type": "code",
   "execution_count": null,
   "metadata": {},
   "outputs": [],
   "source": [
    "counts_Resolution.most_common(30)"
   ]
  },
  {
   "cell_type": "code",
   "execution_count": null,
   "metadata": {},
   "outputs": [],
   "source": [
    "# sentiment analysis(?)"
   ]
  },
  {
   "cell_type": "markdown",
   "metadata": {},
   "source": [
    "## TF-IDF Vectorizer \n",
    "<b>Term Frequency–Inverse Document Frequency\n",
    "<br>https://monkeylearn.com/blog/what-is-tf-idf/"
   ]
  },
  {
   "cell_type": "code",
   "execution_count": 42,
   "metadata": {},
   "outputs": [],
   "source": [
    "X, y, x_test, y_test = train_test_split(\n",
    "    remedy_file[\"clean_Summary\"], remedy_file0,\n",
    "    test_size=0.3,\n",
    "    random_state=50\n",
    ")"
   ]
  },
  {
   "cell_type": "code",
   "execution_count": 43,
   "metadata": {},
   "outputs": [],
   "source": [
    "tfidf_vectorizer_l2 = TfidfVectorizer(ngram_range=(1,3), max_df=0.7, max_features= 300, norm=\"l2\") "
   ]
  },
  {
   "cell_type": "code",
   "execution_count": 44,
   "metadata": {},
   "outputs": [],
   "source": [
    "X_tfidf_l2 = tfidf_vectorizer_l2.fit_transform(X)"
   ]
  },
  {
   "cell_type": "code",
   "execution_count": 45,
   "metadata": {},
   "outputs": [],
   "source": [
    "tfidf_df_l2 = pd.DataFrame(\n",
    "    [tfidf_vectorizer_l2.vocabulary_.keys(), tfidf_vectorizer_l2.idf_]\n",
    ").T\n",
    "tfidf_df_l2.columns = [\"word\", \"tfidf_l2\"]\n",
    "tfidf_df_l2.sort_values(by=[\"tfidf_l2\"], ascending=False, inplace=True)"
   ]
  },
  {
   "cell_type": "code",
   "execution_count": 46,
   "metadata": {},
   "outputs": [
    {
     "name": "stdout",
     "output_type": "stream",
     "text": [
      "<class 'sklearn.feature_extraction.text.TfidfVectorizer'>\n",
      "<class 'scipy.sparse.csr.csr_matrix'>\n",
      "                      word  tfidf_l2\n",
      "188          user prog1 on  5.981991\n",
      "138           cn2 reported  5.660136\n",
      "176             down value  5.549287\n",
      "89               netbackup  5.549287\n",
      "90                     job  5.549287\n",
      "217            on bwillb1a  5.549287\n",
      "175            forced down  5.549287\n",
      "262  acvcsat1 reported pgr  5.545455\n",
      "254        interconnect is  5.545455\n",
      "74    reported error error  5.545455\n",
      "267                  audit  5.544818\n",
      "13                 is down  5.539102\n",
      "178                by user  5.534048\n",
      "177               value by  5.534048\n",
      "88              logwatcher  5.533418\n",
      "181         prog1 com node  5.529647\n",
      "33                 uf data   5.52902\n",
      "157                  lsass  5.523393\n",
      "273           rate backup3  5.516559\n",
      "134         down on server  5.511002\n",
      "266                     cv  5.504251\n",
      "206          of node value  5.500588\n",
      "202             disable of  5.495725\n",
      "39             uf data for  5.493907\n",
      "203                of node  5.480678\n",
      "218       proghsz com node    5.4771\n",
      "109       vcenter acvcsap1   5.47591\n",
      "270            critical cv  5.443159\n",
      "159       reported process  5.439713\n",
      "233              link down  5.439713\n"
     ]
    }
   ],
   "source": [
    "print(type(tfidf_vectorizer_l2))\n",
    "print(type(X_tfidf_l2))\n",
    "print(tfidf_df_l2.head(30))"
   ]
  },
  {
   "cell_type": "markdown",
   "metadata": {},
   "source": [
    "## LDA using TF-IDF"
   ]
  },
  {
   "cell_type": "markdown",
   "metadata": {},
   "source": [
    "<b> Summary Text"
   ]
  },
  {
   "cell_type": "code",
   "execution_count": 25,
   "metadata": {},
   "outputs": [
    {
     "name": "stdout",
     "output_type": "stream",
     "text": [
      "0 data\n",
      "1 hour\n",
      "2 past\n",
      "3 report\n",
      "4 srqddp\n",
      "5 content\n",
      "6 error\n",
      "7 load\n",
      "8 match\n",
      "9 monitor\n",
      "10 scomurl\n"
     ]
    }
   ],
   "source": [
    "dict_Sum = corpora.Dictionary(processed_Summary)\n",
    "count = 0\n",
    "for k, v in dict_Sum.iteritems(): # k -> key | v -> value\n",
    "    print(k, v)\n",
    "    count += 1\n",
    "    if count > 10:\n",
    "        break"
   ]
  },
  {
   "cell_type": "code",
   "execution_count": 26,
   "metadata": {},
   "outputs": [],
   "source": [
    "dict_Sum.filter_extremes(no_below=15, no_above=0.5, keep_n=100000)\n",
    "Sum_bow_corpus = [dict_Sum.doc2bow(doc) for doc in processed_Summary]"
   ]
  },
  {
   "cell_type": "code",
   "execution_count": 27,
   "metadata": {},
   "outputs": [
    {
     "name": "stdout",
     "output_type": "stream",
     "text": [
      "[(0, 0.28658918363462815),\n",
      " (1, 0.2899181622603864),\n",
      " (2, 0.2899116570409312),\n",
      " (3, 0.8658899064702043)]\n"
     ]
    }
   ],
   "source": [
    "Sum_tfidf = models.TfidfModel(Sum_bow_corpus)\n",
    "Sum_corpus_tfidf = Sum_tfidf[Sum_bow_corpus]\n",
    "\n",
    "for comment in Sum_corpus_tfidf:\n",
    "    pprint(comment)\n",
    "    break"
   ]
  },
  {
   "cell_type": "code",
   "execution_count": 49,
   "metadata": {},
   "outputs": [
    {
     "name": "stdout",
     "output_type": "stream",
     "text": [
      "Topic: 0 Word: 0.069*\"data\" + 0.069*\"hour\" + 0.069*\"past\" + 0.062*\"interfac\" + 0.030*\"mdsbesea\" + 0.026*\"crcdelta\" + 0.026*\"ethernierrstat\" + 0.026*\"slot\" + 0.024*\"chassi\" + 0.018*\"mdsh\"\n",
      "Topic: 1 Word: 0.098*\"logwatch\" + 0.061*\"critic\" + 0.058*\"netbackup\" + 0.048*\"error\" + 0.042*\"ping\" + 0.025*\"vcenter\" + 0.024*\"vcvdip\" + 0.024*\"proghsz\" + 0.021*\"path\" + 0.021*\"datastor\"\n",
      "Topic: 2 Word: 0.031*\"vcenter\" + 0.030*\"path\" + 0.030*\"datastor\" + 0.027*\"server\" + 0.025*\"proghsz\" + 0.023*\"prci\" + 0.023*\"prog\" + 0.023*\"acvcsap\" + 0.021*\"servic\" + 0.021*\"user\"\n",
      "Topic: 3 Word: 0.051*\"servic\" + 0.038*\"critic\" + 0.036*\"sccl\" + 0.033*\"srcl\" + 0.024*\"ciscouc\" + 0.024*\"alert\" + 0.023*\"port\" + 0.023*\"fabric\" + 0.020*\"process\" + 0.017*\"logicalvolum\"\n"
     ]
    }
   ],
   "source": [
    "Sum_lda_model_tfidf = gensim.models.LdaMulticore(Sum_corpus_tfidf, num_topics=4, id2word=dict_Sum, passes=2, workers=4)\n",
    "for idx, topic in Sum_lda_model_tfidf.print_topics(-1):\n",
    "    print('Topic: {} Word: {}'.format(idx, topic))"
   ]
  },
  {
   "cell_type": "code",
   "execution_count": 50,
   "metadata": {},
   "outputs": [
    {
     "name": "stdout",
     "output_type": "stream",
     "text": [
      "\n",
      "Score: 0.7307319641113281\t \n",
      "Topic: 0.051*\"servic\" + 0.038*\"critic\" + 0.036*\"sccl\" + 0.033*\"srcl\" + 0.024*\"ciscouc\" + 0.024*\"alert\" + 0.023*\"port\" + 0.023*\"fabric\" + 0.020*\"process\" + 0.017*\"logicalvolum\"\n",
      "\n",
      "Score: 0.1855546087026596\t \n",
      "Topic: 0.098*\"logwatch\" + 0.061*\"critic\" + 0.058*\"netbackup\" + 0.048*\"error\" + 0.042*\"ping\" + 0.025*\"vcenter\" + 0.024*\"vcvdip\" + 0.024*\"proghsz\" + 0.021*\"path\" + 0.021*\"datastor\"\n",
      "\n",
      "Score: 0.041954413056373596\t \n",
      "Topic: 0.069*\"data\" + 0.069*\"hour\" + 0.069*\"past\" + 0.062*\"interfac\" + 0.030*\"mdsbesea\" + 0.026*\"crcdelta\" + 0.026*\"ethernierrstat\" + 0.026*\"slot\" + 0.024*\"chassi\" + 0.018*\"mdsh\"\n",
      "\n",
      "Score: 0.04175903648138046\t \n",
      "Topic: 0.031*\"vcenter\" + 0.030*\"path\" + 0.030*\"datastor\" + 0.027*\"server\" + 0.025*\"proghsz\" + 0.023*\"prci\" + 0.023*\"prog\" + 0.023*\"acvcsap\" + 0.021*\"servic\" + 0.021*\"user\"\n"
     ]
    }
   ],
   "source": [
    "for index, score in sorted(Sum_lda_model_tfidf[Sum_bow_corpus[4310]], key=lambda tup: -1*tup[1]):\n",
    "    print(\"\\nScore: {}\\t \\nTopic: {}\".format(score, Sum_lda_model_tfidf.print_topic(index, 10)))"
   ]
  },
  {
   "cell_type": "markdown",
   "metadata": {},
   "source": [
    "<b> Resolution Text"
   ]
  },
  {
   "cell_type": "code",
   "execution_count": 51,
   "metadata": {},
   "outputs": [
    {
     "name": "stdout",
     "output_type": "stream",
     "text": [
      "0 abl\n",
      "1 appear\n",
      "2 confirm\n",
      "3 contact\n",
      "4 custom\n",
      "5 dtype\n",
      "6 environ\n",
      "7 imt\n",
      "8 issu\n",
      "9 kyle\n",
      "10 length\n"
     ]
    }
   ],
   "source": [
    "dict_Res = corpora.Dictionary(processed_Resolution)\n",
    "count = 0\n",
    "for k, v in dict_Res.iteritems(): # k -> key | v -> value\n",
    "    print(k, v)\n",
    "    count += 1\n",
    "    if count > 10:\n",
    "        break"
   ]
  },
  {
   "cell_type": "code",
   "execution_count": 52,
   "metadata": {},
   "outputs": [],
   "source": [
    "# dict_Res.filter_extremes(no_below=2, no_above=0.25)\n",
    "Res_bow_corpus = [dict_Res.doc2bow(doc) for doc in processed_Resolution]"
   ]
  },
  {
   "cell_type": "code",
   "execution_count": 53,
   "metadata": {},
   "outputs": [
    {
     "name": "stdout",
     "output_type": "stream",
     "text": [
      "[]\n"
     ]
    }
   ],
   "source": [
    "Res_tfidf = models.TfidfModel(Res_bow_corpus)\n",
    "Res_corpus_tfidf = Res_tfidf[Res_bow_corpus]\n",
    "\n",
    "for comment in Res_corpus_tfidf:\n",
    "    pprint(comment)\n",
    "    break"
   ]
  },
  {
   "cell_type": "code",
   "execution_count": 54,
   "metadata": {},
   "outputs": [
    {
     "name": "stdout",
     "output_type": "stream",
     "text": [
      "Topic: 0 Word: 0.130*\"resolv\" + 0.082*\"custom\" + 0.044*\"ticket\" + 0.043*\"environ\" + 0.042*\"confirm\" + 0.042*\"object\" + 0.042*\"abl\" + 0.042*\"imt\" + 0.042*\"issu\" + 0.042*\"transfer\"\n",
      "Topic: 1 Word: 0.120*\"resolv\" + 0.083*\"custom\" + 0.044*\"reop\" + 0.043*\"kyle\" + 0.043*\"success\" + 0.043*\"abl\" + 0.043*\"server\" + 0.042*\"length\" + 0.042*\"imt\" + 0.042*\"ticket\"\n",
      "Topic: 2 Word: 0.123*\"resolv\" + 0.083*\"custom\" + 0.043*\"imt\" + 0.043*\"object\" + 0.043*\"note\" + 0.042*\"length\" + 0.042*\"issu\" + 0.042*\"dtype\" + 0.042*\"reop\" + 0.042*\"confirm\"\n",
      "Topic: 3 Word: 0.127*\"resolv\" + 0.085*\"custom\" + 0.043*\"kyle\" + 0.043*\"multipleday\" + 0.043*\"normaliz\" + 0.043*\"issu\" + 0.042*\"contact\" + 0.042*\"transfer\" + 0.042*\"success\" + 0.042*\"dtype\"\n"
     ]
    }
   ],
   "source": [
    "Res_lda_model_tfidf = gensim.models.LdaMulticore(Res_bow_corpus, num_topics=4, id2word=dict_Res, passes=2, workers=4)\n",
    "for idx, topic in Res_lda_model_tfidf.print_topics(-1):\n",
    "    print('Topic: {} Word: {}'.format(idx, topic))"
   ]
  },
  {
   "cell_type": "code",
   "execution_count": 55,
   "metadata": {},
   "outputs": [
    {
     "name": "stdout",
     "output_type": "stream",
     "text": [
      "\n",
      "Score: 0.25\t \n",
      "Topic: 0.130*\"resolv\" + 0.082*\"custom\" + 0.044*\"ticket\" + 0.043*\"environ\" + 0.042*\"confirm\" + 0.042*\"object\" + 0.042*\"abl\" + 0.042*\"imt\" + 0.042*\"issu\" + 0.042*\"transfer\"\n",
      "\n",
      "Score: 0.25\t \n",
      "Topic: 0.120*\"resolv\" + 0.083*\"custom\" + 0.044*\"reop\" + 0.043*\"kyle\" + 0.043*\"success\" + 0.043*\"abl\" + 0.043*\"server\" + 0.042*\"length\" + 0.042*\"imt\" + 0.042*\"ticket\"\n",
      "\n",
      "Score: 0.25\t \n",
      "Topic: 0.123*\"resolv\" + 0.083*\"custom\" + 0.043*\"imt\" + 0.043*\"object\" + 0.043*\"note\" + 0.042*\"length\" + 0.042*\"issu\" + 0.042*\"dtype\" + 0.042*\"reop\" + 0.042*\"confirm\"\n",
      "\n",
      "Score: 0.25\t \n",
      "Topic: 0.127*\"resolv\" + 0.085*\"custom\" + 0.043*\"kyle\" + 0.043*\"multipleday\" + 0.043*\"normaliz\" + 0.043*\"issu\" + 0.042*\"contact\" + 0.042*\"transfer\" + 0.042*\"success\" + 0.042*\"dtype\"\n"
     ]
    }
   ],
   "source": [
    "for index, score in sorted(Res_lda_model_tfidf[Res_corpus_tfidf[4310]], key=lambda tup: -1*tup[1]):\n",
    "    print(\"\\nScore: {}\\t \\nTopic: {}\".format(score, Res_lda_model_tfidf.print_topic(index, 10)))"
   ]
  },
  {
   "cell_type": "markdown",
   "metadata": {},
   "source": [
    "## Visualizations"
   ]
  },
  {
   "cell_type": "markdown",
   "metadata": {},
   "source": [
    "<b> Summary Text"
   ]
  },
  {
   "cell_type": "code",
   "execution_count": 56,
   "metadata": {},
   "outputs": [],
   "source": [
    "pyLDAvis.enable_notebook()"
   ]
  },
  {
   "cell_type": "code",
   "execution_count": 57,
   "metadata": {},
   "outputs": [
    {
     "name": "stderr",
     "output_type": "stream",
     "text": [
      "c:\\miniconda37\\lib\\site-packages\\pyLDAvis\\_prepare.py:247: FutureWarning: In a future version of pandas all arguments of DataFrame.drop except for the argument 'labels' will be keyword-only\n",
      "  by='saliency', ascending=False).head(R).drop('saliency', 1)\n"
     ]
    }
   ],
   "source": [
    "Sum_TFIDFvis = pyLDAvis.gensim_models.prepare(Sum_lda_model_tfidf,Sum_bow_corpus, dict_Sum)"
   ]
  },
  {
   "cell_type": "code",
   "execution_count": 58,
   "metadata": {},
   "outputs": [
    {
     "data": {
      "text/html": [
       "\n",
       "<link rel=\"stylesheet\" type=\"text/css\" href=\"https://cdn.jsdelivr.net/gh/bmabey/pyLDAvis@3.3.1/pyLDAvis/js/ldavis.v1.0.0.css\">\n",
       "\n",
       "\n",
       "<div id=\"ldavis_el2300419851523762646881539917\"></div>\n",
       "<script type=\"text/javascript\">\n",
       "\n",
       "var ldavis_el2300419851523762646881539917_data = {\"mdsDat\": {\"x\": [0.1929066563691643, 0.14536907812046967, 0.030906675035722798, -0.36918240952535647], \"y\": [-0.007319148146203929, -0.22347698230966012, 0.29769476709754106, -0.06689863664167701], \"topics\": [1, 2, 3, 4], \"cluster\": [1, 1, 1, 1], \"Freq\": [30.590499118178975, 30.017726177348692, 25.757217570035145, 13.63455713443719]}, \"tinfo\": {\"Term\": [\"logwatch\", \"netbackup\", \"data\", \"hour\", \"past\", \"interfac\", \"ping\", \"srcl\", \"sccl\", \"vcvdip\", \"prog\", \"acvcsap\", \"mdsbesea\", \"user\", \"artifact\", \"critic\", \"node\", \"valu\", \"bigip\", \"crcdelta\", \"ethernierrstat\", \"error\", \"proghsz\", \"slot\", \"vcenter\", \"port\", \"fabric\", \"prci\", \"vrvdip\", \"forc\", \"vcvdip\", \"ping\", \"scspmp\", \"scinetp\", \"acvcsat\", \"vmesxpn\", \"asp\", \"vmesxtk\", \"netbackup\", \"vmesxpk\", \"vcesxtk\", \"srfaor\", \"subscrib\", \"vmesxpm\", \"serial\", \"ucsb\", \"system\", \"scmpsp\", \"model\", \"vcesxtf\", \"xodpkan\", \"client\", \"scbitemp\", \"scaqwp\", \"central\", \"scpqdc\", \"event\", \"caagentverifi\", \"vcesxtjd\", \"vmesxtj\", \"vrvdip\", \"sccafa\", \"amvcsap\", \"vmesxpl\", \"xrapoi\", \"access\", \"schctop\", \"logwatch\", \"amvcsat\", \"scfaor\", \"error\", \"intr\", \"ccmexec\", \"critic\", \"connect\", \"host\", \"scppup\", \"proghsz\", \"content\", \"vcenter\", \"path\", \"datastor\", \"scomurl\", \"match\", \"emcpbas\", \"servic\", \"failur\", \"artifact\", \"prog\", \"bigip\", \"valu\", \"forc\", \"user\", \"scppsp\", \"window\", \"acvcsap\", \"node\", \"beillb\", \"mdsbeseb\", \"bwillb\", \"scppbp\", \"soft\", \"ndtask\", \"betillb\", \"disabl\", \"rack\", \"heartbeat\", \"sccm\", \"packag\", \"unit\", \"vcesxpk\", \"vcvdipf\", \"vcesxpn\", \"invalid\", \"proghszq\", \"miss\", \"vcesxpl\", \"drive\", \"power\", \"arvcsav\", \"cluster\", \"editingservic\", \"prci\", \"dimm\", \"contain\", \"server\", \"netflow\", \"path\", \"datastor\", \"vcenter\", \"proghsz\", \"vnic\", \"failur\", \"servic\", \"alert\", \"ciscouc\", \"health\", \"filesystem\", \"critic\", \"backup\", \"rate\", \"audit\", \"polici\", \"issuanc\", \"interconnect\", \"member\", \"smcl\", \"vmvdip\", \"channel\", \"scmsspsq\", \"amvcsav\", \"symmetrix\", \"dead\", \"upload\", \"copp\", \"link\", \"scppsq\", \"xrisch\", \"scppbq\", \"tomcat\", \"scmsspaah\", \"srconn\", \"scucceepg\", \"function\", \"nserver\", \"upstreamservic\", \"ether\", \"readi\", \"configur\", \"srcl\", \"lsass\", \"oper\", \"logicalvolum\", \"root\", \"vblkfi\", \"vmesxtf\", \"beprod\", \"fabric\", \"sccl\", \"port\", \"transact\", \"derarchitectur\", \"state\", \"process\", \"servic\", \"ciscouc\", \"alert\", \"critic\", \"emcpbas\", \"profil\", \"error\", \"logwatch\", \"crcdelta\", \"ethernierrstat\", \"mdsbesea\", \"mdsh\", \"vlan\", \"scmsspt\", \"mdsbwsea\", \"switch\", \"scmssph\", \"group\", \"scpupt\", \"scsas\", \"mdsbwseb\", \"hour\", \"reboot\", \"past\", \"vrvdim\", \"twagent\", \"data\", \"scdb\", \"vmesxth\", \"pdsrv\", \"vcesxtja\", \"unknown\", \"srubip\", \"scrdshp\", \"reachabl\", \"srvirt\", \"srucceppg\", \"scclp\", \"entir\", \"smppup\", \"scucceppg\", \"interfac\", \"restor\", \"slot\", \"folder\", \"smqawp\", \"chassi\", \"ucsl\", \"clussvc\", \"scom\", \"ucsay\", \"warn\", \"process\", \"critic\", \"emcpbas\", \"microsoft\", \"error\", \"servic\", \"alert\", \"ciscouc\"], \"Freq\": [36381.0, 19820.0, 10662.0, 10597.0, 10599.0, 9929.0, 14585.0, 9758.0, 11853.0, 8323.0, 7695.0, 7675.0, 4588.0, 6991.0, 6938.0, 35866.0, 6861.0, 6828.0, 6826.0, 3958.0, 3958.0, 22089.0, 16794.0, 4303.0, 19605.0, 7426.0, 7047.0, 8881.0, 6342.0, 5937.0, 8320.648707913051, 14577.764298387447, 2745.7787085054288, 1507.1112327815663, 4618.238442654738, 2568.4103442706023, 3219.6403917073885, 1671.6807967939155, 19783.1326536295, 1725.4621070693827, 1084.6244414497255, 2641.569785981572, 1004.1509765402755, 1226.717025033342, 1035.3386873410564, 983.3293942641923, 983.3292341831409, 935.2233574639025, 1001.4041457791002, 1069.0977000301393, 853.2249604587037, 2938.928663193689, 726.3577657153903, 680.7520348571016, 1055.1375918201952, 651.7424268620928, 653.8738660413783, 676.5910480877544, 632.4997640163472, 662.5553816215437, 6305.019524947278, 3103.3101319706293, 4284.504668292417, 994.1916139672152, 952.1239144667047, 1215.7293017860122, 1091.3276753965438, 33566.80401097715, 2999.6775012318553, 1272.9412290337602, 16639.82595080152, 2574.604680554982, 4599.882588813551, 20872.024455707233, 4354.278235684976, 3467.824611060516, 2320.3271360609156, 8192.490379449575, 3227.298349044827, 8460.322626890886, 7296.044815758093, 7284.611827066262, 3398.959343553668, 3306.7840338265405, 3685.8092199027024, 5882.364568470929, 3062.3104932451383, 6935.239621722953, 7691.810702727854, 6823.117037778712, 6825.071159161704, 5934.58244327628, 6987.31978408651, 3917.4252514791524, 4579.228042924872, 7669.078804530465, 6855.597551171315, 2718.0113083276165, 3957.753038811365, 2232.6766736259306, 2704.53918081227, 2006.2524404782132, 1873.0812673992953, 1784.7683330036239, 2607.9322263987556, 1765.8127272537533, 1844.0847136653233, 1772.4652224763984, 1778.4893828492068, 1613.9856641483368, 1601.886291196171, 1295.0000890596345, 2954.4163263975634, 1519.4771910495642, 1359.6977650009032, 1333.8254492240314, 1292.7979324946698, 1924.8494615099075, 2296.6584405476665, 1702.7711063510853, 2052.709634270582, 2612.1007568762843, 7906.741434802359, 2087.366071248169, 1954.5709565768784, 8948.21210342017, 1917.27378530914, 10267.484060852286, 10245.325204037948, 10594.273476234102, 8502.240133721347, 1963.6946927639306, 3597.2553437403644, 7082.224736475529, 4118.171638486022, 3750.3689224508216, 2183.469886530677, 2146.6040671373516, 2218.1553839950693, 4861.958151035293, 3801.7910086160705, 3760.7514648355905, 4978.120895515012, 3496.766891543305, 4806.300273074659, 2516.300631286674, 4589.939653770873, 4981.221027240385, 2928.884492512915, 1482.5231579971805, 2022.4085369924042, 1363.3054358846105, 1240.0900265180046, 2825.327692358575, 1977.8219033647545, 2389.7966561011276, 1189.653848689585, 910.9928474443786, 811.1810064142885, 708.8510496931806, 771.8812430792539, 943.1439092032082, 650.19015500318, 578.5457738589839, 599.4550840399337, 615.9248034076464, 2202.140156442564, 559.4795930800199, 759.0994673697114, 9656.159823080847, 3793.569728857055, 2814.958156102212, 4998.714396624982, 1478.151433111062, 1644.9931092121315, 840.925220253374, 1159.8601001370614, 6564.441046481082, 10560.95833776126, 6715.6277313107, 1482.108549075996, 3590.741319322855, 2471.8792481588207, 5825.2278458229475, 14763.210075097335, 6895.66828562671, 6878.257945857019, 11123.544363921354, 3335.0448808041842, 2338.790593188583, 2803.8375792382935, 2609.7067914421295, 3956.7206790578834, 3956.7206790578834, 4585.6535624895005, 2745.4679126736055, 1366.8502868962767, 1042.1568116022474, 848.7359770371356, 817.1632858325744, 844.6591054094499, 777.6811540110007, 697.8219464446825, 995.7017088273478, 790.041911421034, 10560.311465790348, 647.0619372196102, 10560.280642560274, 545.0098613003524, 1882.5984143968021, 10615.76131509116, 460.7316228475137, 479.8847641846795, 926.8077226594789, 421.0998699299591, 400.5942166731865, 376.97106482476073, 484.9228282751729, 1030.5811190081793, 338.3648621328058, 518.445730932499, 330.01615481221364, 909.3049084324895, 595.3526153183209, 530.6991778378326, 9561.335716318612, 2086.8200084499026, 3954.841603624524, 983.6892111071014, 525.1791440270954, 3641.8345562326044, 1859.647237504003, 978.4413421369075, 1312.6791735430888, 867.9056715904519, 1074.7587989110632, 1522.7646017173624, 1653.2049438842303, 1227.4283979663737, 901.2692495423296, 1054.1004565053163, 1005.1075031043092, 939.6421018316113, 918.1401875528157], \"Total\": [36381.0, 19820.0, 10662.0, 10597.0, 10599.0, 9929.0, 14585.0, 9758.0, 11853.0, 8323.0, 7695.0, 7675.0, 4588.0, 6991.0, 6938.0, 35866.0, 6861.0, 6828.0, 6826.0, 3958.0, 3958.0, 22089.0, 16794.0, 4303.0, 19605.0, 7426.0, 7047.0, 8881.0, 6342.0, 5937.0, 8323.267058721382, 14585.383605620009, 2747.848606825081, 1509.1617389313133, 4624.9823985837365, 2572.3864608791923, 3224.699516112385, 1674.3553518262645, 19820.639071940914, 1728.7848151232006, 1086.7303378666238, 2646.7031554132577, 1006.1162503438055, 1229.146830706447, 1037.4124961004443, 985.3862230524527, 985.3861968442095, 937.1877606385325, 1003.5543628681322, 1071.4409060841458, 855.1585092973747, 2946.6355184748368, 728.3094272262467, 682.6967425312486, 1058.2641903715453, 653.7194767258374, 655.868780613527, 678.6590178253837, 634.4478473103775, 664.6735906229499, 6342.738882765355, 3119.6741849118002, 4330.0378733813895, 998.2595776904127, 956.7381104708616, 1226.5038743628136, 1101.24233452638, 36381.18784476366, 3096.1361648676793, 1300.1549856029724, 22089.636033988318, 2966.7014661200446, 5790.119757242585, 35866.929147507886, 5858.652998252329, 4717.828038628032, 2905.598782754346, 16794.802656211654, 5011.039412242905, 19605.425741856157, 18180.663468922106, 18149.5814793305, 5963.588384208282, 5823.407101315974, 8258.99659577226, 28732.906883148098, 6668.667439282937, 6938.164121340353, 7695.114129511825, 6826.3876878963565, 6828.54282111173, 5937.77487142273, 6991.267716692787, 3920.160850610301, 4582.866797816556, 7675.202432258617, 6861.266547503441, 2720.3638426439243, 3961.642889979264, 2234.8909506320706, 2707.382519496225, 2008.6701932100814, 1875.3579368351416, 1787.0148424766865, 2611.3201083454633, 1768.2681386168476, 1846.6840620732353, 1775.0044454747542, 1781.0408361566301, 1616.471269188494, 1604.4502707309043, 1297.1330185516476, 2959.522613335601, 1522.1455767553325, 1362.1227388587622, 1336.26846863902, 1295.2309571287146, 1930.2828176446685, 2307.941300035607, 1709.277301949676, 2083.8732464809304, 2698.21043838142, 8881.064882047713, 2136.5660581875372, 2002.1703570058128, 11777.46812758376, 1963.826361999184, 18180.663468922106, 18149.5814793305, 19605.425741856157, 16794.802656211654, 2037.7794325371397, 6668.667439282937, 28732.906883148098, 12146.38641164107, 11782.502857051251, 3245.5981905083877, 4358.072692995916, 35866.929147507886, 4864.268177370883, 3803.9670636421097, 3762.9306492574415, 4981.007675969115, 3499.383830442229, 4810.655526575214, 2518.7108396166627, 4594.457519402126, 4986.7578550493845, 2933.1237106156686, 1484.809127192518, 2025.6110389592739, 1365.4798451391116, 1242.2674161138934, 2830.372098207385, 1981.6545867868986, 2394.58565979301, 1192.4270782466842, 913.434482398277, 813.427063993061, 710.9891464171749, 774.2241499947165, 946.0279244993742, 652.4006326251043, 580.6308257076364, 601.6316007393116, 618.1625188880913, 2210.3710214850485, 561.5766804599496, 761.9877107686067, 9758.594653312484, 3813.053108138519, 2825.938134226787, 5066.681536258188, 1486.826199806329, 1657.4947026405307, 844.7227947733846, 1169.7180266747318, 7047.098187617234, 11853.55740987036, 7426.910016710625, 1533.7454244123273, 4082.1321251440645, 2841.048444702553, 8235.384789130789, 28732.906883148098, 11782.502857051251, 12146.38641164107, 35866.929147507886, 8258.99659577226, 4132.155400015503, 22089.636033988318, 36381.18784476366, 3958.8159640520644, 3958.8163475957504, 4588.562157475803, 2747.931215977747, 1369.0016971786267, 1044.3005576752737, 850.8348437819506, 819.2600684071772, 846.9058893874711, 779.8068546539431, 699.8784327437694, 998.928127952881, 792.659946998535, 10597.69425055772, 649.4129036563656, 10599.126231273438, 547.1029225113795, 1890.3476219244908, 10662.501523186773, 462.7896211979921, 482.0313549051421, 931.4072722454088, 423.3505564125099, 402.7897126136531, 379.0444023538619, 487.61650868420514, 1036.756541432275, 340.4278869479172, 521.6069363171094, 332.1021656872289, 918.5066609926507, 600.4678974873394, 534.7395136230633, 9929.225105070998, 2181.4989957450134, 4303.846077456369, 1015.7226557560958, 530.7494631365478, 4723.15187769045, 3082.547648484663, 1630.2940526451423, 3007.8665651682763, 1367.5114214109271, 2811.2843309527143, 8235.384789130789, 35866.929147507886, 8258.99659577226, 2520.122975236678, 22089.636033988318, 28732.906883148098, 12146.38641164107, 11782.502857051251], \"Category\": [\"Default\", \"Default\", \"Default\", \"Default\", \"Default\", \"Default\", \"Default\", \"Default\", \"Default\", \"Default\", \"Default\", \"Default\", \"Default\", \"Default\", \"Default\", \"Default\", \"Default\", \"Default\", \"Default\", \"Default\", \"Default\", \"Default\", \"Default\", \"Default\", \"Default\", \"Default\", \"Default\", \"Default\", \"Default\", \"Default\", \"Topic1\", \"Topic1\", \"Topic1\", \"Topic1\", \"Topic1\", \"Topic1\", \"Topic1\", \"Topic1\", \"Topic1\", \"Topic1\", \"Topic1\", \"Topic1\", \"Topic1\", \"Topic1\", \"Topic1\", \"Topic1\", \"Topic1\", \"Topic1\", \"Topic1\", \"Topic1\", \"Topic1\", \"Topic1\", \"Topic1\", \"Topic1\", \"Topic1\", \"Topic1\", \"Topic1\", \"Topic1\", \"Topic1\", \"Topic1\", \"Topic1\", \"Topic1\", \"Topic1\", \"Topic1\", \"Topic1\", \"Topic1\", \"Topic1\", \"Topic1\", \"Topic1\", \"Topic1\", \"Topic1\", \"Topic1\", \"Topic1\", \"Topic1\", \"Topic1\", \"Topic1\", \"Topic1\", \"Topic1\", \"Topic1\", \"Topic1\", \"Topic1\", \"Topic1\", \"Topic1\", \"Topic1\", \"Topic1\", \"Topic1\", \"Topic1\", \"Topic2\", \"Topic2\", \"Topic2\", \"Topic2\", \"Topic2\", \"Topic2\", \"Topic2\", \"Topic2\", \"Topic2\", \"Topic2\", \"Topic2\", \"Topic2\", \"Topic2\", \"Topic2\", \"Topic2\", \"Topic2\", \"Topic2\", \"Topic2\", \"Topic2\", \"Topic2\", \"Topic2\", \"Topic2\", \"Topic2\", \"Topic2\", \"Topic2\", \"Topic2\", \"Topic2\", \"Topic2\", \"Topic2\", \"Topic2\", \"Topic2\", \"Topic2\", \"Topic2\", \"Topic2\", \"Topic2\", \"Topic2\", \"Topic2\", \"Topic2\", \"Topic2\", \"Topic2\", \"Topic2\", \"Topic2\", \"Topic2\", \"Topic2\", \"Topic2\", \"Topic2\", \"Topic2\", \"Topic2\", \"Topic2\", \"Topic2\", \"Topic2\", \"Topic2\", \"Topic3\", \"Topic3\", \"Topic3\", \"Topic3\", \"Topic3\", \"Topic3\", \"Topic3\", \"Topic3\", \"Topic3\", \"Topic3\", \"Topic3\", \"Topic3\", \"Topic3\", \"Topic3\", \"Topic3\", \"Topic3\", \"Topic3\", \"Topic3\", \"Topic3\", \"Topic3\", \"Topic3\", \"Topic3\", \"Topic3\", \"Topic3\", \"Topic3\", \"Topic3\", \"Topic3\", \"Topic3\", \"Topic3\", \"Topic3\", \"Topic3\", \"Topic3\", \"Topic3\", \"Topic3\", \"Topic3\", \"Topic3\", \"Topic3\", \"Topic3\", \"Topic3\", \"Topic3\", \"Topic3\", \"Topic3\", \"Topic3\", \"Topic3\", \"Topic3\", \"Topic3\", \"Topic3\", \"Topic3\", \"Topic3\", \"Topic3\", \"Topic3\", \"Topic3\", \"Topic3\", \"Topic4\", \"Topic4\", \"Topic4\", \"Topic4\", \"Topic4\", \"Topic4\", \"Topic4\", \"Topic4\", \"Topic4\", \"Topic4\", \"Topic4\", \"Topic4\", \"Topic4\", \"Topic4\", \"Topic4\", \"Topic4\", \"Topic4\", \"Topic4\", \"Topic4\", \"Topic4\", \"Topic4\", \"Topic4\", \"Topic4\", \"Topic4\", \"Topic4\", \"Topic4\", \"Topic4\", \"Topic4\", \"Topic4\", \"Topic4\", \"Topic4\", \"Topic4\", \"Topic4\", \"Topic4\", \"Topic4\", \"Topic4\", \"Topic4\", \"Topic4\", \"Topic4\", \"Topic4\", \"Topic4\", \"Topic4\", \"Topic4\", \"Topic4\", \"Topic4\", \"Topic4\", \"Topic4\", \"Topic4\", \"Topic4\", \"Topic4\", \"Topic4\", \"Topic4\"], \"logprob\": [30.0, 29.0, 28.0, 27.0, 26.0, 25.0, 24.0, 23.0, 22.0, 21.0, 20.0, 19.0, 18.0, 17.0, 16.0, 15.0, 14.0, 13.0, 12.0, 11.0, 10.0, 9.0, 8.0, 7.0, 6.0, 5.0, 4.0, 3.0, 2.0, 1.0, -3.7212, -3.1605, -4.8299, -5.4298, -4.31, -4.8967, -4.6707, -5.3261, -2.8551, -5.2945, -5.7587, -4.8686, -5.8358, -5.6356, -5.8052, -5.8568, -5.8568, -5.9069, -5.8386, -5.7732, -5.9987, -4.7619, -6.1597, -6.2245, -5.7863, -6.2681, -6.2648, -6.2307, -6.2981, -6.2516, -3.9986, -4.7075, -4.385, -5.8458, -5.889, -5.6446, -5.7526, -2.3264, -4.7415, -5.5986, -3.0282, -4.8943, -4.3139, -2.8016, -4.3688, -4.5964, -4.9983, -3.7368, -4.6683, -3.7046, -3.8526, -3.8542, -4.6165, -4.644, -4.5355, -4.068, -4.7208, -3.8845, -3.7809, -3.9008, -3.9005, -4.0403, -3.877, -4.4556, -4.2995, -3.7839, -3.896, -4.8212, -4.4454, -5.0179, -4.8261, -5.1248, -5.1935, -5.2418, -4.8625, -5.2525, -5.2091, -5.2487, -5.2453, -5.3424, -5.3499, -5.5626, -4.7378, -5.4027, -5.5138, -5.533, -5.5643, -5.1662, -4.9896, -5.2888, -5.1019, -4.8609, -3.7534, -5.0852, -5.1509, -3.6296, -5.1702, -3.4921, -3.4943, -3.4608, -3.6807, -5.1462, -4.5409, -3.8635, -4.4057, -4.4992, -5.0402, -5.0572, -5.0244, -4.0866, -4.3325, -4.3434, -4.0629, -4.4162, -4.0981, -4.7452, -4.1441, -4.0623, -4.5934, -5.2743, -4.9637, -5.3581, -5.4528, -4.6294, -4.986, -4.7968, -5.4943, -5.7612, -5.8773, -6.0121, -5.9269, -5.7265, -6.0985, -6.2152, -6.1797, -6.1526, -4.8786, -6.2488, -5.9436, -3.4004, -4.3347, -4.6331, -4.0588, -5.2772, -5.1703, -5.8413, -5.5197, -3.7863, -3.3108, -3.7636, -5.2745, -4.3896, -4.763, -3.9058, -2.9759, -3.7371, -3.7396, -3.2589, -4.4635, -4.8184, -4.637, -4.7088, -3.6565, -3.6565, -3.509, -4.0219, -4.7194, -4.9906, -5.1959, -5.2338, -5.2007, -5.2833, -5.3917, -5.0362, -5.2676, -2.6748, -5.4672, -2.6748, -5.6388, -4.3992, -2.6696, -5.8068, -5.7661, -5.1079, -5.8968, -5.9467, -6.0075, -5.7557, -5.0018, -6.1155, -5.6888, -6.1405, -5.127, -5.5505, -5.6655, -2.7742, -4.2963, -3.657, -5.0483, -5.6759, -3.7394, -4.4115, -5.0537, -4.7598, -5.1736, -4.9598, -4.6114, -4.5292, -4.827, -5.1358, -4.9792, -5.0268, -5.0942, -5.1173], \"loglift\": [30.0, 29.0, 28.0, 27.0, 26.0, 25.0, 24.0, 23.0, 22.0, 21.0, 20.0, 19.0, 18.0, 17.0, 16.0, 15.0, 14.0, 13.0, 12.0, 11.0, 10.0, 9.0, 8.0, 7.0, 6.0, 5.0, 4.0, 3.0, 2.0, 1.0, 1.1842, 1.184, 1.1837, 1.1831, 1.183, 1.1829, 1.1829, 1.1829, 1.1826, 1.1826, 1.1825, 1.1825, 1.1825, 1.1825, 1.1825, 1.1824, 1.1824, 1.1824, 1.1823, 1.1823, 1.1822, 1.1819, 1.1818, 1.1816, 1.1815, 1.1815, 1.1814, 1.1814, 1.1814, 1.1813, 1.1785, 1.1792, 1.1739, 1.1804, 1.1796, 1.1757, 1.1754, 1.104, 1.1528, 1.1633, 0.9012, 1.0427, 0.9544, 0.6431, 0.8877, 0.8767, 0.9595, 0.4666, 0.7445, 0.3441, 0.2715, 0.2716, 0.6223, 0.6186, 0.3777, -0.4016, 0.4062, 1.203, 1.203, 1.2029, 1.2029, 1.2028, 1.2028, 1.2027, 1.2026, 1.2026, 1.2026, 1.2025, 1.2024, 1.2024, 1.2023, 1.2022, 1.2022, 1.2021, 1.2021, 1.202, 1.202, 1.202, 1.2019, 1.2018, 1.2018, 1.2017, 1.2017, 1.2016, 1.2016, 1.2016, 1.2015, 1.2006, 1.1985, 1.1996, 1.1883, 1.1709, 1.0872, 1.1801, 1.1793, 0.9286, 1.1794, 0.632, 0.6316, 0.5879, 0.5226, 1.1663, 0.5861, -0.1971, 0.1218, 0.0586, 0.807, 0.4952, -1.5798, 1.356, 1.3559, 1.3559, 1.3559, 1.3557, 1.3555, 1.3555, 1.3555, 1.3553, 1.355, 1.3549, 1.3549, 1.3549, 1.3547, 1.3547, 1.3545, 1.3545, 1.3541, 1.3538, 1.3537, 1.3534, 1.3534, 1.3534, 1.3531, 1.3529, 1.3528, 1.3528, 1.3527, 1.3527, 1.3527, 1.3459, 1.3513, 1.3526, 1.3429, 1.3506, 1.3489, 1.3519, 1.348, 1.2855, 1.241, 1.2558, 1.3222, 1.2282, 1.2173, 1.0102, 0.6906, 0.8207, 0.7878, 0.1857, 0.4496, 0.7873, -0.7077, -1.2784, 1.992, 1.992, 1.9919, 1.9917, 1.991, 1.9905, 1.9901, 1.99, 1.9899, 1.9898, 1.9896, 1.9893, 1.9893, 1.989, 1.9889, 1.9889, 1.9887, 1.9885, 1.9882, 1.9881, 1.9881, 1.9876, 1.9872, 1.9871, 1.9871, 1.987, 1.9866, 1.9865, 1.9865, 1.9863, 1.9825, 1.984, 1.985, 1.9548, 1.9482, 1.908, 1.9605, 1.982, 1.7326, 1.4872, 1.482, 1.1634, 1.5379, 1.031, 0.3047, -1.0845, 0.0862, 0.9643, -1.0499, -1.3604, -0.5667, -0.5595]}, \"token.table\": {\"Topic\": [1, 2, 3, 4, 1, 2, 3, 4, 1, 2, 3, 4, 1, 2, 3, 4, 1, 2, 3, 4, 1, 2, 3, 4, 1, 2, 3, 4, 1, 2, 3, 4, 1, 2, 3, 4, 1, 2, 3, 4, 1, 2, 3, 4, 1, 2, 3, 4, 1, 2, 3, 4, 1, 2, 3, 4, 1, 2, 3, 4, 1, 2, 3, 4, 1, 2, 3, 4, 1, 2, 3, 4, 1, 2, 3, 4, 1, 2, 3, 4, 1, 2, 3, 4, 1, 2, 3, 4, 1, 2, 3, 4, 1, 2, 3, 4, 1, 2, 3, 4, 1, 2, 3, 4, 1, 2, 3, 4, 1, 2, 3, 4, 1, 2, 3, 4, 1, 2, 3, 4, 1, 2, 3, 4, 1, 2, 3, 4, 1, 2, 3, 4, 1, 2, 3, 4, 1, 2, 3, 4, 1, 2, 3, 4, 1, 2, 3, 4, 1, 2, 3, 4, 1, 2, 3, 4, 1, 2, 3, 4, 1, 2, 3, 4, 1, 2, 3, 4, 1, 2, 3, 4, 1, 2, 3, 4, 1, 2, 3, 4, 1, 2, 3, 4, 1, 2, 3, 4, 1, 2, 3, 4, 1, 2, 3, 4, 1, 2, 3, 4, 1, 2, 3, 4, 1, 2, 3, 4, 1, 2, 3, 4, 1, 2, 3, 4, 1, 2, 3, 4, 1, 2, 3, 4, 1, 2, 3, 4, 1, 2, 3, 4, 1, 2, 3, 4, 1, 2, 3, 4, 1, 2, 3, 4, 1, 2, 3, 4, 1, 2, 3, 4, 1, 2, 3, 4, 1, 2, 3, 4, 1, 2, 3, 4, 1, 2, 3, 4, 1, 2, 3, 4, 1, 2, 3, 4, 1, 2, 3, 4, 1, 2, 3, 4, 1, 2, 3, 4, 1, 2, 3, 4, 1, 2, 3, 4, 1, 2, 3, 4, 1, 2, 3, 4, 1, 2, 3, 4, 1, 2, 3, 4, 1, 2, 3, 4, 1, 2, 3, 4, 1, 2, 3, 4, 1, 2, 3, 4, 1, 2, 3, 4, 1, 2, 3, 4, 1, 2, 3, 4, 1, 2, 3, 4, 1, 2, 3, 4, 1, 2, 3, 4, 1, 2, 3, 4, 1, 2, 3, 4, 1, 2, 3, 4, 1, 2, 3, 4, 1, 2, 3, 4, 1, 2, 3, 4, 1, 2, 3, 4, 1, 2, 3, 4, 1, 2, 3, 4, 1, 2, 3, 4, 1, 2, 3, 4, 1, 2, 3, 4, 1, 2, 3, 4, 1, 2, 3, 4, 1, 2, 3, 4, 1, 2, 3, 4, 1, 2, 3, 4, 1, 2, 3, 4, 1, 2, 3, 4, 1, 2, 3, 4, 1, 2, 3, 4, 1, 2, 3, 4, 1, 2, 3, 4, 1, 2, 3, 4, 1, 2, 3, 4, 1, 2, 3, 4, 1, 2, 3, 4, 1, 2, 3, 4, 1, 2, 3, 4, 1, 2, 3, 4, 1, 2, 3, 4, 1, 2, 3, 4, 1, 2, 3, 4, 1, 2, 3, 4, 1, 2, 3, 4, 1, 2, 3, 4, 1, 2, 3, 4, 1, 2, 3, 4, 1, 2, 3, 4, 1, 2, 3, 4, 1, 2, 3, 4, 1, 2, 3, 4, 1, 2, 3, 4, 1, 2, 3, 4, 1, 2, 3, 4, 1, 2, 3, 4, 1, 2, 3, 4, 1, 2, 3, 4, 1, 2, 3, 4, 1, 2, 3, 4, 1, 2, 3, 4, 1, 2, 3, 4, 1, 2, 3, 4, 1, 2, 3, 4, 1, 2, 3, 4, 1, 2, 3, 4, 1, 2, 3, 4, 1, 2, 3, 4, 1, 2, 3, 4, 1, 2, 3, 4, 1, 2, 3, 4, 1, 2, 3, 4, 1, 2, 3, 4, 1, 2, 3, 4, 1, 2, 3, 4, 1, 2, 3, 4, 1, 2, 3, 4, 1, 2, 3, 4, 1, 2, 3, 4, 1, 2, 3, 4, 1, 2, 3, 4, 1, 2, 3, 4, 1, 2, 3, 4, 1, 2, 3, 4, 1, 2, 3, 4, 1, 2, 3, 4, 1, 2, 3, 4, 1, 2, 3, 4, 1, 2, 3, 4, 1, 2, 3, 4, 1, 2, 3, 4, 1, 2, 3, 4, 1, 2, 3, 4, 1, 2, 3, 4, 1, 2, 3, 4, 1, 2, 3, 4, 1, 2, 3, 4, 1, 2, 3, 4, 1, 2, 3, 4, 1, 2, 3, 4, 1, 2, 3, 4, 1, 2, 3, 4, 1, 2, 3, 4, 1, 2, 3, 4, 1, 2, 3, 4, 1, 2, 3, 4, 1, 2, 3, 4, 1, 2, 3, 4, 1, 2, 3, 4, 1, 2, 3, 4, 1, 2, 3, 4, 1, 2, 3, 4, 1, 2, 3, 4, 1, 2, 3, 4, 1, 2, 3, 4], \"Freq\": [0.9914359223950512, 0.004076627970374388, 0.0016306511881497552, 0.0032613023762995104, 0.0002605794462950016, 0.9991918868181837, 0.0001302897231475008, 0.0005211588925900032, 0.9984902864525766, 0.00021621703907591524, 0.00021621703907591524, 0.0010810851953795763, 0.01728909264723675, 0.3390308739110521, 0.5662589487033065, 0.07738927184953594, 0.9895987345380379, 0.009468739350305613, 0.0004618897244051519, 0.0004618897244051519, 0.9689496327847106, 0.0009689496327847106, 0.029068488983541318, 0.0009689496327847106, 0.0004936781942666465, 0.0004936781942666465, 0.9982173088071592, 0.000987356388533293, 0.0001441303466610436, 0.9995439540943374, 0.0001441303466610436, 0.0001441303466610436, 0.0011700851568781222, 0.996327511081721, 0.0005850425784390611, 0.0017551277353171832, 0.9985426499154716, 0.00031010641301722723, 0.0009303192390516816, 0.00031010641301722723, 0.00026575031357469614, 0.00026575031357469614, 0.9994869293544322, 0.00026575031357469614, 0.00020558077053648303, 0.00020558077053648303, 0.9995337063483805, 0.00020558077053648303, 0.00036759788684299634, 0.999131056439264, 0.00036759788684299634, 0.00036759788684299634, 0.0008549068896910092, 0.0017098137793820185, 0.9916919920415708, 0.005129441338146056, 0.00055959244222844, 0.9988725093777654, 0.00055959244222844, 0.00055959244222844, 0.00014649036147962517, 0.9995037363754826, 0.00029298072295925033, 0.00014649036147962517, 0.0004474491248520115, 0.9991538957945416, 0.0004474491248520115, 0.0004474491248520115, 0.9975554471659426, 0.0014734940135390584, 0.0014734940135390584, 0.0014734940135390584, 0.7944567975897353, 0.0006908319979041177, 0.2036227313822387, 0.0012089559963322058, 0.9969155241184158, 0.0018898872495135845, 0.0009449436247567923, 0.0009449436247567923, 0.00034093345479454666, 0.00034093345479454666, 0.9985940890932271, 0.00102280036438364, 0.00021172302434809375, 0.20325410337417002, 0.025406762921771252, 0.7710952546757575, 0.018502011214836047, 0.31826854153961087, 0.585274629988575, 0.07791213896889675, 0.9974087333072029, 0.0003393701032008176, 0.001696850516004088, 0.0006787402064016352, 0.3931806038057867, 0.005520476496493104, 0.0012267725547762454, 0.599891779285584, 0.00047987563624069543, 0.9851846812021476, 0.011037139633535994, 0.003359129453684868, 0.0013123571231763221, 0.0013123571231763221, 0.9960790564908284, 0.0013123571231763221, 0.7431742418093074, 0.24937472836090907, 0.0063154448660873615, 0.0010241261945006532, 0.0004994579989164712, 0.9764403878817012, 0.022975067950157677, 0.0004994579989164712, 0.6439781718969994, 0.1756122687540624, 0.11115458374546905, 0.0692471105200678, 0.0005046288120380371, 0.0010092576240760742, 0.9981557902112375, 0.0005046288120380371, 0.0002526007798999692, 0.0002526007798999692, 0.0002526007798999692, 0.9995412860641782, 0.581928826807584, 0.06183969614120454, 0.31014642915904383, 0.04608702331894098, 0.0020633056841453763, 0.0010316528420726881, 0.001313012708092512, 0.9956387792221506, 0.40138666603946, 0.5644758261598172, 0.033223906605599776, 0.0008815630276776061, 0.0008049796581868313, 0.0008049796581868313, 0.9981747761516707, 0.0008049796581868313, 0.0002449700228565504, 0.11979034117685312, 0.8796873520778724, 0.0002449700228565504, 0.002808244555326241, 0.9768010644943108, 0.019189671128062646, 0.0009360815184420803, 0.0003829480716684718, 0.9987285709113745, 0.0003829480716684718, 0.0003829480716684718, 0.000518058799912129, 0.9972631898308484, 0.000518058799912129, 0.002072235199648516, 0.00037061601488721233, 0.9680490308853986, 0.031131745250525835, 0.00037061601488721233, 0.4463011889224952, 0.001331880921906524, 0.4038020795052961, 0.14856526283448226, 0.0010887237321929462, 0.006532342393157678, 0.0021774474643858925, 0.9896498725633882, 0.7532944397271548, 0.07206999687774221, 0.1269373563097922, 0.04771468386252531, 0.0004524127353642852, 0.0004524127353642852, 0.996212843272156, 0.0031668891475499965, 0.00025260075542714056, 0.00025260075542714056, 0.00025260075542714056, 0.9995411892251952, 0.9971506791163641, 0.001524695228006673, 0.001524695228006673, 0.001524695228006673, 0.00014190237930232673, 0.00014190237930232673, 0.9314472177404727, 0.06811314206511683, 0.4591621981271341, 0.5393881210526784, 0.0008997299767350767, 0.0004498649883675383, 0.258830010296264, 0.4926489646330486, 0.15006633575687647, 0.09843800923501529, 0.001969041439280702, 0.025597538710649126, 0.003938082878561404, 0.9687683881261054, 0.00016841325608567463, 0.999532674868479, 0.00016841325608567463, 0.00016841325608567463, 0.0017222647433182052, 0.0017222647433182052, 0.9971912863812409, 0.0017222647433182052, 0.0012823688250903778, 0.0012823688250903778, 0.0012823688250903778, 0.9976829459203139, 0.09767074708355855, 0.6726032835438748, 0.17408193092179994, 0.05515162059292423, 0.0005415111445091046, 0.9985465504747889, 0.0005415111445091046, 0.0005415111445091046, 0.7350840199356888, 0.2592294568573666, 0.0027555052650415092, 0.0027555052650415092, 0.001981563112079294, 0.000849241333748269, 0.0006605210373597648, 0.9964431649313022, 0.00020787187826602015, 0.00020787187826602015, 0.9990322469464928, 0.0004157437565320403, 0.00020142558747898376, 0.036659456921175046, 0.00020142558747898376, 0.9629150209432819, 0.8679673467002645, 0.020898631260355884, 0.10988635146574223, 0.0013482987909907024, 0.0006569673855582465, 0.9979334586629764, 0.0006569673855582465, 0.0006569673855582465, 0.0002857645941267399, 0.0002857645941267399, 0.9993187856612095, 0.0002857645941267399, 0.0004176087816739205, 0.0004176087816739205, 0.9980849882006699, 0.0012528263450217614, 0.00039473568363979447, 0.004736828203677533, 0.9866418412576663, 0.008289449356435684, 0.9226471698293186, 0.0026662131103001134, 0.07174037338024015, 0.002941080441258888, 0.00026225703436063246, 0.0026225703436063247, 0.9950031883642396, 0.0020980562748850596, 0.5678806139541033, 0.18356951204019847, 0.15575074594991584, 0.09272922030094218, 0.00021793319250797862, 0.00021793319250797862, 0.00021793319250797862, 0.9994416208415899, 0.0005048410610302304, 0.999080459778826, 0.0002524205305151152, 0.0002524205305151152, 0.0011753162288876324, 0.0011753162288876324, 0.0011753162288876324, 0.9978434783255999, 0.0012615750345234085, 0.0012615750345234085, 0.0012615750345234085, 0.9966442772734927, 0.00036391012780288536, 0.00036391012780288536, 0.00036391012780288536, 0.9989333008189203, 0.0003970285053254449, 0.0003970285053254449, 0.9989237193988194, 0.0003970285053254449, 0.0003968060328111904, 0.6416353550556948, 0.0003968060328111904, 0.35752223556288254, 0.0007483526128686497, 0.9983023855667787, 0.0007483526128686497, 0.0007483526128686497, 0.9974546841081614, 0.0009964582258822792, 0.0009964582258822792, 0.0009964582258822792, 0.0005332315396214987, 0.9987426737110672, 0.0005332315396214987, 0.0005332315396214987, 0.9981010162283719, 0.00030271476001467076, 0.0014126688800684636, 0.00015135738000733538, 0.0005092099889024789, 0.976155548726052, 0.022914449500611552, 0.0005092099889024789, 0.00029149137205983135, 0.9992324234211019, 0.00043723705808974703, 0.00014574568602991568, 0.0016621467336010204, 0.0016621467336010204, 0.9956258934270112, 0.0016621467336010204, 0.0007077295768710187, 0.0024770535190485653, 0.9961293794459588, 0.001061594365306528, 0.0005614694394980492, 0.9982926634275315, 0.0005614694394980492, 0.0005614694394980492, 0.002075642795449262, 0.0008491265981383345, 0.0006604317985520379, 0.9963085418156458, 0.401305486594135, 0.5647208649756008, 0.03305709943024604, 0.0008800558916538047, 0.001073644183160853, 0.0032209325494825585, 0.001073644183160853, 0.9952681577901106, 0.999493766786006, 6.856178946261531e-05, 6.856178946261531e-05, 0.0004113707367756919, 0.00020076258963111076, 0.00020076258963111076, 0.9993961711836693, 0.00020076258963111076, 0.0001346454982960598, 0.0001346454982960598, 0.9042791665563377, 0.09546365829190641, 0.0004332865831486147, 0.995259281492368, 0.004332865831486147, 0.0004332865831486147, 0.002814977745578156, 0.8903211613714591, 0.1056179650140924, 0.0012385902080543885, 0.007528488539093976, 0.10017746846375049, 0.7073136409713292, 0.18493367814580847, 0.008712160244473124, 0.4252018208205355, 0.5660484114395177, 0.00024200445123536454, 0.00012995258850870866, 0.999595310808987, 0.0002599051770174173, 0.00012995258850870866, 0.48776994691093567, 0.5062280381636688, 0.0053588006862773695, 0.0005954222984752632, 0.0007341482316328099, 0.9984415950206215, 0.0007341482316328099, 0.0007341482316328099, 0.0005655250909979113, 0.9987173107023114, 0.0005655250909979113, 0.0005655250909979113, 0.000262883453844248, 0.000262883453844248, 0.9994828915158308, 0.000262883453844248, 0.004822733014148644, 0.0009645466028297289, 0.0009645466028297289, 0.9944475475174505, 0.0017807007213707085, 0.0017807007213707085, 0.995411703246226, 0.0017807007213707085, 0.0015398523718419155, 0.0015398523718419155, 0.0015398523718419155, 0.9962844845817194, 0.002750402366310012, 0.005959205127005027, 0.03438002957887515, 0.9566816230814992, 0.004035441399123548, 0.0013451471330411826, 0.994063731317434, 0.0006725735665205913, 0.997514646803561, 0.001464779217039003, 0.001464779217039003, 0.001464779217039003, 0.996829057623156, 0.001373042779095256, 0.001373042779095256, 0.001373042779095256, 0.9946551518128257, 0.0044876481229067225, 0.0003205462944933373, 0.0003205462944933373, 0.0943176770771828, 0.014510411858028123, 0.8909561606548547, 0.00016872571927939678, 0.0030111215864270873, 0.0030111215864270873, 0.0030111215864270873, 0.9936701235209388, 0.0005633788707118046, 0.9983073589013177, 0.0005633788707118046, 0.0005633788707118046, 0.0021608090462603025, 0.0021608090462603025, 0.0021608090462603025, 0.9961329703259995, 0.9791140395540008, 0.0015382781454108417, 0.0184593377449301, 0.0007691390727054208, 0.9906992909686994, 0.000908065344609257, 0.000908065344609257, 0.008172588101483313, 0.9985675896257189, 0.0006626195020741334, 0.0006626195020741334, 0.0006626195020741334, 0.9976656111716163, 0.0010670220440338143, 0.0010670220440338143, 0.0010670220440338143, 0.0012916156128775164, 0.0012916156128775164, 0.9971272531414427, 0.0012916156128775164, 0.0011807687401055329, 0.0011807687401055329, 0.0011807687401055329, 0.9977495853891752, 0.0006734872393267163, 0.0006734872393267163, 0.9987815759215202, 0.0006734872393267163, 0.000957578728317553, 0.000957578728317553, 0.000957578728317553, 0.9977970349068902, 0.02626446296349596, 0.5369254137474174, 0.00033246155649994887, 0.4365220236844328, 0.5699588538002772, 0.18495575632294964, 0.15192195396971203, 0.09323245740304624, 0.00036936044049884557, 0.9991199915493773, 0.00036936044049884557, 0.00036936044049884557, 0.0012293665213093162, 0.0012293665213093162, 0.9970162487818556, 0.0012293665213093162, 0.00025509157356242595, 0.9991936936440226, 0.00025509157356242595, 0.00025509157356242595, 0.0008386257057080385, 0.0008386257057080385, 0.9979645897925659, 0.0008386257057080385, 0.7984584842786757, 0.2009912736287701, 0.00034416313977529125, 0.00034416313977529125, 0.9973697024686348, 0.0015297081326206055, 0.0015297081326206055, 0.0015297081326206055, 0.0014288195681064905, 0.0014288195681064905, 0.0014288195681064905, 0.9973160585383303, 0.0020507919280633494, 0.0020507919280633494, 0.0020507919280633494, 0.9946340851107245, 0.0010010730221896099, 0.0010010730221896099, 0.0010010730221896099, 0.9970687301008515, 0.9993272530297014, 0.0003639210681098694, 0.0003639210681098694, 0.0003639210681098694, 0.0015328004756467492, 0.0015328004756467492, 0.9963203091703869, 0.0015328004756467492, 0.001870069397386814, 0.001870069397386814, 0.003740138794773628, 0.9930068500123982, 0.9976745064190834, 0.0009639367211778583, 0.0009639367211778583, 0.0009639367211778583, 0.06724705101473155, 0.759755823838154, 0.17227811427890194, 0.0007641710342583131, 0.2047130150778376, 0.24647697599137128, 0.5138011291387481, 0.034977317265084455, 0.0002323503169032972, 0.08039320964854084, 0.0004647006338065944, 0.9189455033525404, 0.0006529606569069743, 0.00021765355230232478, 0.9990298050676707, 0.00021765355230232478, 0.0016653679641900998, 0.0049961038925703, 0.0016653679641900998, 0.9908939386931094, 0.0018841281422883446, 0.0075365125691533785, 0.0018841281422883446, 0.9891672747013809, 0.0004978418076697237, 0.9986706661854656, 0.0004978418076697237, 0.0004978418076697237, 0.008197901730946942, 0.0017420541178262254, 0.989486738925296, 0.0005123688581841839, 0.0010570512498657872, 0.0010570512498657872, 0.9967993286234372, 0.0010570512498657872, 0.9982230136373101, 0.0003778285441473543, 0.001133485632442063, 0.0003778285441473543, 0.0026382133433181182, 0.0026382133433181182, 0.0026382133433181182, 0.9946064304309304, 0.0019171524195223755, 0.003834304839044751, 0.0019171524195223755, 0.9930849533125905, 0.002937479678781404, 0.002937479678781404, 0.002937479678781404, 0.9928681314281146, 0.0003519827343544986, 0.0007039654687089972, 0.8701013193243204, 0.12882568077374648, 0.997896614488552, 0.00099392093076549, 0.00099392093076549, 0.00099392093076549, 0.0012206136226610206, 0.0012206136226610206, 0.0012206136226610206, 0.9972413297140538, 0.0007323432883757596, 0.0007323432883757596, 0.9981839020561604, 0.0007323432883757596, 0.9975784145831842, 0.0010148305336553248, 0.0010148305336553248, 0.0010148305336553248, 0.0014064912313207763, 0.0014064912313207763, 0.9972022830064304, 0.0014064912313207763, 0.005867988165929464, 0.026731946089234224, 0.9662620513230518, 0.0006519986851032738, 0.0005290032311527645, 0.0031740193869165866, 0.0005290032311527645, 0.9961130842606555, 0.0007312553184881279, 0.3619713826516233, 0.0021937659554643837, 0.634729616447695, 0.9975783880506662, 0.0010148305066639534, 0.0010148305066639534, 0.0010148305066639534, 0.0003244069886451182, 0.09699768960489034, 0.29942765051944414, 0.6033969988799199, 0.0006186314715646156, 0.9984711951052896, 0.0006186314715646156, 0.0006186314715646156, 0.00248268505546262, 0.00248268505546262, 0.00248268505546262, 0.9955567072405106, 0.00035331043597884164, 0.00035331043597884164, 0.9981019816402277, 0.0014132417439153666, 0.0016176975624447951, 0.0016176975624447951, 0.9965016984659939, 0.0016176975624447951, 0.00014303557530951613, 0.9993895646875892, 0.00028607115061903227, 0.00014303557530951613, 0.00014644412815400544, 0.9994811746510871, 0.0002928882563080109, 0.00014644412815400544, 0.0012066403571690631, 0.004223241250091721, 0.9924616937715544, 0.0024132807143381263, 0.4315132000392379, 0.5403606195290409, 0.02728836430508183, 0.0008161006147314191, 0.0006232664347673748, 0.9984728284973344, 0.0006232664347673748, 0.0006232664347673748, 0.0007720630784001746, 0.9982775603714258, 0.0007720630784001746, 0.0007720630784001746, 0.0003378923328694982, 0.9981339512964976, 0.0003378923328694982, 0.0013515693314779928, 0.9977218472150119, 0.0009333225886015078, 0.0009333225886015078, 0.0009333225886015078, 0.0023621086233452516, 0.0023621086233452516, 0.0023621086233452516, 0.9944477304283509, 0.9961417674900236, 0.001576173682737379, 0.001576173682737379, 0.001576173682737379, 0.998407757834367, 0.0009201914818749926, 0.0009201914818749926, 0.0009201914818749926, 0.9997276239359633, 0.00012014512966421863, 0.00012014512966421863, 0.00012014512966421863, 0.0007709309575023999, 0.9983555899656079, 0.0007709309575023999, 0.0007709309575023999, 0.0007304592843536266, 0.0007304592843536266, 0.0007304592843536266, 0.9985378417114077, 0.9978107077930743, 0.0005784409900249707, 0.0005784409900249707, 0.0005784409900249707, 0.9957329959204922, 0.001001743456660455, 0.00200348691332091, 0.001001743456660455, 0.9982533976797442, 0.0008135724512467353, 0.0008135724512467353, 0.0008135724512467353, 0.998294789314941, 0.00038874407683603624, 0.0007774881536720725, 0.00038874407683603624, 0.0023676406181705367, 0.0011838203090852684, 0.9955928799407108, 0.0011838203090852684, 0.0020745538434876042, 0.0020745538434876042, 0.0020745538434876042, 0.9957858448740501, 0.9974820864758877, 0.0015044978679877642, 0.0015044978679877642, 0.0015044978679877642, 0.9985932784078986, 0.0005972447837367814, 0.0005972447837367814, 0.0005972447837367814, 0.0002005310923584231, 0.0006015932770752693, 0.9988453710373054, 0.0002005310923584231, 0.0004907302449092583, 0.9637942010017834, 0.0353325776334666, 0.0004907302449092583, 0.0018278096476064803, 0.0018278096476064803, 0.0018278096476064803, 0.9961562579455318, 0.994050065206389, 0.005202799706869285, 0.0001576605971778571, 0.0004729817915335713, 0.0010671279197801142, 0.6164442283263126, 0.0003557093065933714, 0.38238750458787424, 0.00021820402907552023, 0.9991562491368071, 0.00021820402907552023, 0.00043640805815104046, 0.9974758956685723, 0.0011693738518975057, 0.0011693738518975057, 0.0011693738518975057, 0.995047641126651, 0.0010452181104271543, 0.0010452181104271543, 0.003135654331281463, 0.0010947692683709947, 0.0010947692683709947, 0.9973348034859761, 0.0010947692683709947], \"Term\": [\"access\", \"access\", \"access\", \"access\", \"acvcsap\", \"acvcsap\", \"acvcsap\", \"acvcsap\", \"acvcsat\", \"acvcsat\", \"acvcsat\", \"acvcsat\", \"alert\", \"alert\", \"alert\", \"alert\", \"amvcsap\", \"amvcsap\", \"amvcsap\", \"amvcsap\", \"amvcsat\", \"amvcsat\", \"amvcsat\", \"amvcsat\", \"amvcsav\", \"amvcsav\", \"amvcsav\", \"amvcsav\", \"artifact\", \"artifact\", \"artifact\", \"artifact\", \"arvcsav\", \"arvcsav\", \"arvcsav\", \"arvcsav\", \"asp\", \"asp\", \"asp\", \"asp\", \"audit\", \"audit\", \"audit\", \"audit\", \"backup\", \"backup\", \"backup\", \"backup\", \"beillb\", \"beillb\", \"beillb\", \"beillb\", \"beprod\", \"beprod\", \"beprod\", \"beprod\", \"betillb\", \"betillb\", \"betillb\", \"betillb\", \"bigip\", \"bigip\", \"bigip\", \"bigip\", \"bwillb\", \"bwillb\", \"bwillb\", \"bwillb\", \"caagentverifi\", \"caagentverifi\", \"caagentverifi\", \"caagentverifi\", \"ccmexec\", \"ccmexec\", \"ccmexec\", \"ccmexec\", \"central\", \"central\", \"central\", \"central\", \"channel\", \"channel\", \"channel\", \"channel\", \"chassi\", \"chassi\", \"chassi\", \"chassi\", \"ciscouc\", \"ciscouc\", \"ciscouc\", \"ciscouc\", \"client\", \"client\", \"client\", \"client\", \"clussvc\", \"clussvc\", \"clussvc\", \"clussvc\", \"cluster\", \"cluster\", \"cluster\", \"cluster\", \"configur\", \"configur\", \"configur\", \"configur\", \"connect\", \"connect\", \"connect\", \"connect\", \"contain\", \"contain\", \"contain\", \"contain\", \"content\", \"content\", \"content\", \"content\", \"copp\", \"copp\", \"copp\", \"copp\", \"crcdelta\", \"crcdelta\", \"crcdelta\", \"crcdelta\", \"critic\", \"critic\", \"critic\", \"critic\", \"data\", \"data\", \"data\", \"data\", \"datastor\", \"datastor\", \"datastor\", \"datastor\", \"dead\", \"dead\", \"dead\", \"dead\", \"derarchitectur\", \"derarchitectur\", \"derarchitectur\", \"derarchitectur\", \"dimm\", \"dimm\", \"dimm\", \"dimm\", \"disabl\", \"disabl\", \"disabl\", \"disabl\", \"drive\", \"drive\", \"drive\", \"drive\", \"editingservic\", \"editingservic\", \"editingservic\", \"editingservic\", \"emcpbas\", \"emcpbas\", \"emcpbas\", \"emcpbas\", \"entir\", \"entir\", \"entir\", \"entir\", \"error\", \"error\", \"error\", \"error\", \"ether\", \"ether\", \"ether\", \"ether\", \"ethernierrstat\", \"ethernierrstat\", \"ethernierrstat\", \"ethernierrstat\", \"event\", \"event\", \"event\", \"event\", \"fabric\", \"fabric\", \"fabric\", \"fabric\", \"failur\", \"failur\", \"failur\", \"failur\", \"filesystem\", \"filesystem\", \"filesystem\", \"filesystem\", \"folder\", \"folder\", \"folder\", \"folder\", \"forc\", \"forc\", \"forc\", \"forc\", \"function\", \"function\", \"function\", \"function\", \"group\", \"group\", \"group\", \"group\", \"health\", \"health\", \"health\", \"health\", \"heartbeat\", \"heartbeat\", \"heartbeat\", \"heartbeat\", \"host\", \"host\", \"host\", \"host\", \"hour\", \"hour\", \"hour\", \"hour\", \"interconnect\", \"interconnect\", \"interconnect\", \"interconnect\", \"interfac\", \"interfac\", \"interfac\", \"interfac\", \"intr\", \"intr\", \"intr\", \"intr\", \"invalid\", \"invalid\", \"invalid\", \"invalid\", \"issuanc\", \"issuanc\", \"issuanc\", \"issuanc\", \"link\", \"link\", \"link\", \"link\", \"logicalvolum\", \"logicalvolum\", \"logicalvolum\", \"logicalvolum\", \"logwatch\", \"logwatch\", \"logwatch\", \"logwatch\", \"lsass\", \"lsass\", \"lsass\", \"lsass\", \"match\", \"match\", \"match\", \"match\", \"mdsbesea\", \"mdsbesea\", \"mdsbesea\", \"mdsbesea\", \"mdsbeseb\", \"mdsbeseb\", \"mdsbeseb\", \"mdsbeseb\", \"mdsbwsea\", \"mdsbwsea\", \"mdsbwsea\", \"mdsbwsea\", \"mdsbwseb\", \"mdsbwseb\", \"mdsbwseb\", \"mdsbwseb\", \"mdsh\", \"mdsh\", \"mdsh\", \"mdsh\", \"member\", \"member\", \"member\", \"member\", \"microsoft\", \"microsoft\", \"microsoft\", \"microsoft\", \"miss\", \"miss\", \"miss\", \"miss\", \"model\", \"model\", \"model\", \"model\", \"ndtask\", \"ndtask\", \"ndtask\", \"ndtask\", \"netbackup\", \"netbackup\", \"netbackup\", \"netbackup\", \"netflow\", \"netflow\", \"netflow\", \"netflow\", \"node\", \"node\", \"node\", \"node\", \"nserver\", \"nserver\", \"nserver\", \"nserver\", \"oper\", \"oper\", \"oper\", \"oper\", \"packag\", \"packag\", \"packag\", \"packag\", \"past\", \"past\", \"past\", \"past\", \"path\", \"path\", \"path\", \"path\", \"pdsrv\", \"pdsrv\", \"pdsrv\", \"pdsrv\", \"ping\", \"ping\", \"ping\", \"ping\", \"polici\", \"polici\", \"polici\", \"polici\", \"port\", \"port\", \"port\", \"port\", \"power\", \"power\", \"power\", \"power\", \"prci\", \"prci\", \"prci\", \"prci\", \"process\", \"process\", \"process\", \"process\", \"profil\", \"profil\", \"profil\", \"profil\", \"prog\", \"prog\", \"prog\", \"prog\", \"proghsz\", \"proghsz\", \"proghsz\", \"proghsz\", \"proghszq\", \"proghszq\", \"proghszq\", \"proghszq\", \"rack\", \"rack\", \"rack\", \"rack\", \"rate\", \"rate\", \"rate\", \"rate\", \"reachabl\", \"reachabl\", \"reachabl\", \"reachabl\", \"readi\", \"readi\", \"readi\", \"readi\", \"reboot\", \"reboot\", \"reboot\", \"reboot\", \"restor\", \"restor\", \"restor\", \"restor\", \"root\", \"root\", \"root\", \"root\", \"scaqwp\", \"scaqwp\", \"scaqwp\", \"scaqwp\", \"scbitemp\", \"scbitemp\", \"scbitemp\", \"scbitemp\", \"sccafa\", \"sccafa\", \"sccafa\", \"sccafa\", \"sccl\", \"sccl\", \"sccl\", \"sccl\", \"scclp\", \"scclp\", \"scclp\", \"scclp\", \"sccm\", \"sccm\", \"sccm\", \"sccm\", \"scdb\", \"scdb\", \"scdb\", \"scdb\", \"scfaor\", \"scfaor\", \"scfaor\", \"scfaor\", \"schctop\", \"schctop\", \"schctop\", \"schctop\", \"scinetp\", \"scinetp\", \"scinetp\", \"scinetp\", \"scmpsp\", \"scmpsp\", \"scmpsp\", \"scmpsp\", \"scmsspaah\", \"scmsspaah\", \"scmsspaah\", \"scmsspaah\", \"scmssph\", \"scmssph\", \"scmssph\", \"scmssph\", \"scmsspsq\", \"scmsspsq\", \"scmsspsq\", \"scmsspsq\", \"scmsspt\", \"scmsspt\", \"scmsspt\", \"scmsspt\", \"scom\", \"scom\", \"scom\", \"scom\", \"scomurl\", \"scomurl\", \"scomurl\", \"scomurl\", \"scppbp\", \"scppbp\", \"scppbp\", \"scppbp\", \"scppbq\", \"scppbq\", \"scppbq\", \"scppbq\", \"scppsp\", \"scppsp\", \"scppsp\", \"scppsp\", \"scppsq\", \"scppsq\", \"scppsq\", \"scppsq\", \"scppup\", \"scppup\", \"scppup\", \"scppup\", \"scpqdc\", \"scpqdc\", \"scpqdc\", \"scpqdc\", \"scpupt\", \"scpupt\", \"scpupt\", \"scpupt\", \"scrdshp\", \"scrdshp\", \"scrdshp\", \"scrdshp\", \"scsas\", \"scsas\", \"scsas\", \"scsas\", \"scspmp\", \"scspmp\", \"scspmp\", \"scspmp\", \"scucceepg\", \"scucceepg\", \"scucceepg\", \"scucceepg\", \"scucceppg\", \"scucceppg\", \"scucceppg\", \"scucceppg\", \"serial\", \"serial\", \"serial\", \"serial\", \"server\", \"server\", \"server\", \"server\", \"servic\", \"servic\", \"servic\", \"servic\", \"slot\", \"slot\", \"slot\", \"slot\", \"smcl\", \"smcl\", \"smcl\", \"smcl\", \"smppup\", \"smppup\", \"smppup\", \"smppup\", \"smqawp\", \"smqawp\", \"smqawp\", \"smqawp\", \"soft\", \"soft\", \"soft\", \"soft\", \"srcl\", \"srcl\", \"srcl\", \"srcl\", \"srconn\", \"srconn\", \"srconn\", \"srconn\", \"srfaor\", \"srfaor\", \"srfaor\", \"srfaor\", \"srubip\", \"srubip\", \"srubip\", \"srubip\", \"srucceppg\", \"srucceppg\", \"srucceppg\", \"srucceppg\", \"srvirt\", \"srvirt\", \"srvirt\", \"srvirt\", \"state\", \"state\", \"state\", \"state\", \"subscrib\", \"subscrib\", \"subscrib\", \"subscrib\", \"switch\", \"switch\", \"switch\", \"switch\", \"symmetrix\", \"symmetrix\", \"symmetrix\", \"symmetrix\", \"system\", \"system\", \"system\", \"system\", \"tomcat\", \"tomcat\", \"tomcat\", \"tomcat\", \"transact\", \"transact\", \"transact\", \"transact\", \"twagent\", \"twagent\", \"twagent\", \"twagent\", \"ucsay\", \"ucsay\", \"ucsay\", \"ucsay\", \"ucsb\", \"ucsb\", \"ucsb\", \"ucsb\", \"ucsl\", \"ucsl\", \"ucsl\", \"ucsl\", \"unit\", \"unit\", \"unit\", \"unit\", \"unknown\", \"unknown\", \"unknown\", \"unknown\", \"upload\", \"upload\", \"upload\", \"upload\", \"upstreamservic\", \"upstreamservic\", \"upstreamservic\", \"upstreamservic\", \"user\", \"user\", \"user\", \"user\", \"valu\", \"valu\", \"valu\", \"valu\", \"vblkfi\", \"vblkfi\", \"vblkfi\", \"vblkfi\", \"vcenter\", \"vcenter\", \"vcenter\", \"vcenter\", \"vcesxpk\", \"vcesxpk\", \"vcesxpk\", \"vcesxpk\", \"vcesxpl\", \"vcesxpl\", \"vcesxpl\", \"vcesxpl\", \"vcesxpn\", \"vcesxpn\", \"vcesxpn\", \"vcesxpn\", \"vcesxtf\", \"vcesxtf\", \"vcesxtf\", \"vcesxtf\", \"vcesxtja\", \"vcesxtja\", \"vcesxtja\", \"vcesxtja\", \"vcesxtjd\", \"vcesxtjd\", \"vcesxtjd\", \"vcesxtjd\", \"vcesxtk\", \"vcesxtk\", \"vcesxtk\", \"vcesxtk\", \"vcvdip\", \"vcvdip\", \"vcvdip\", \"vcvdip\", \"vcvdipf\", \"vcvdipf\", \"vcvdipf\", \"vcvdipf\", \"vlan\", \"vlan\", \"vlan\", \"vlan\", \"vmesxpk\", \"vmesxpk\", \"vmesxpk\", \"vmesxpk\", \"vmesxpl\", \"vmesxpl\", \"vmesxpl\", \"vmesxpl\", \"vmesxpm\", \"vmesxpm\", \"vmesxpm\", \"vmesxpm\", \"vmesxpn\", \"vmesxpn\", \"vmesxpn\", \"vmesxpn\", \"vmesxtf\", \"vmesxtf\", \"vmesxtf\", \"vmesxtf\", \"vmesxth\", \"vmesxth\", \"vmesxth\", \"vmesxth\", \"vmesxtj\", \"vmesxtj\", \"vmesxtj\", \"vmesxtj\", \"vmesxtk\", \"vmesxtk\", \"vmesxtk\", \"vmesxtk\", \"vmvdip\", \"vmvdip\", \"vmvdip\", \"vmvdip\", \"vnic\", \"vnic\", \"vnic\", \"vnic\", \"vrvdim\", \"vrvdim\", \"vrvdim\", \"vrvdim\", \"vrvdip\", \"vrvdip\", \"vrvdip\", \"vrvdip\", \"warn\", \"warn\", \"warn\", \"warn\", \"window\", \"window\", \"window\", \"window\", \"xodpkan\", \"xodpkan\", \"xodpkan\", \"xodpkan\", \"xrapoi\", \"xrapoi\", \"xrapoi\", \"xrapoi\", \"xrisch\", \"xrisch\", \"xrisch\", \"xrisch\"]}, \"R\": 30, \"lambda.step\": 0.01, \"plot.opts\": {\"xlab\": \"PC1\", \"ylab\": \"PC2\"}, \"topic.order\": [2, 3, 4, 1]};\n",
       "\n",
       "function LDAvis_load_lib(url, callback){\n",
       "  var s = document.createElement('script');\n",
       "  s.src = url;\n",
       "  s.async = true;\n",
       "  s.onreadystatechange = s.onload = callback;\n",
       "  s.onerror = function(){console.warn(\"failed to load library \" + url);};\n",
       "  document.getElementsByTagName(\"head\")[0].appendChild(s);\n",
       "}\n",
       "\n",
       "if(typeof(LDAvis) !== \"undefined\"){\n",
       "   // already loaded: just create the visualization\n",
       "   !function(LDAvis){\n",
       "       new LDAvis(\"#\" + \"ldavis_el2300419851523762646881539917\", ldavis_el2300419851523762646881539917_data);\n",
       "   }(LDAvis);\n",
       "}else if(typeof define === \"function\" && define.amd){\n",
       "   // require.js is available: use it to load d3/LDAvis\n",
       "   require.config({paths: {d3: \"https://d3js.org/d3.v5\"}});\n",
       "   require([\"d3\"], function(d3){\n",
       "      window.d3 = d3;\n",
       "      LDAvis_load_lib(\"https://cdn.jsdelivr.net/gh/bmabey/pyLDAvis@3.3.1/pyLDAvis/js/ldavis.v3.0.0.js\", function(){\n",
       "        new LDAvis(\"#\" + \"ldavis_el2300419851523762646881539917\", ldavis_el2300419851523762646881539917_data);\n",
       "      });\n",
       "    });\n",
       "}else{\n",
       "    // require.js not available: dynamically load d3 & LDAvis\n",
       "    LDAvis_load_lib(\"https://d3js.org/d3.v5.js\", function(){\n",
       "         LDAvis_load_lib(\"https://cdn.jsdelivr.net/gh/bmabey/pyLDAvis@3.3.1/pyLDAvis/js/ldavis.v3.0.0.js\", function(){\n",
       "                 new LDAvis(\"#\" + \"ldavis_el2300419851523762646881539917\", ldavis_el2300419851523762646881539917_data);\n",
       "            })\n",
       "         });\n",
       "}\n",
       "</script>"
      ],
      "text/plain": [
       "PreparedData(topic_coordinates=              x         y  topics  cluster       Freq\n",
       "topic                                                \n",
       "1      0.192907 -0.007319       1        1  30.590499\n",
       "2      0.145369 -0.223477       2        1  30.017726\n",
       "3      0.030907  0.297695       3        1  25.757218\n",
       "0     -0.369182 -0.066899       4        1  13.634557, topic_info=          Term          Freq         Total Category  logprob  loglift\n",
       "113   logwatch  36381.000000  36381.000000  Default  30.0000  30.0000\n",
       "491  netbackup  19820.000000  19820.000000  Default  29.0000  29.0000\n",
       "0         data  10662.000000  10662.000000  Default  28.0000  28.0000\n",
       "1         hour  10597.000000  10597.000000  Default  27.0000  27.0000\n",
       "2         past  10599.000000  10599.000000  Default  26.0000  26.0000\n",
       "..         ...           ...           ...      ...      ...      ...\n",
       "790  microsoft    901.269250   2520.122975   Topic4  -5.1358   0.9643\n",
       "5        error   1054.100457  22089.636034   Topic4  -4.9792  -1.0499\n",
       "16      servic   1005.107503  28732.906883   Topic4  -5.0268  -1.3604\n",
       "180      alert    939.642102  12146.386412   Topic4  -5.0942  -0.5667\n",
       "183    ciscouc    918.140188  11782.502857   Topic4  -5.1173  -0.5595\n",
       "\n",
       "[244 rows x 6 columns], token_table=      Topic      Freq     Term\n",
       "term                          \n",
       "609       1  0.991436   access\n",
       "609       2  0.004077   access\n",
       "609       3  0.001631   access\n",
       "609       4  0.003261   access\n",
       "63        1  0.000261  acvcsap\n",
       "...     ...       ...      ...\n",
       "774       4  0.003136   xrapoi\n",
       "1200      1  0.001095   xrisch\n",
       "1200      2  0.001095   xrisch\n",
       "1200      3  0.997335   xrisch\n",
       "1200      4  0.001095   xrisch\n",
       "\n",
       "[772 rows x 3 columns], R=30, lambda_step=0.01, plot_opts={'xlab': 'PC1', 'ylab': 'PC2'}, topic_order=[2, 3, 4, 1])"
      ]
     },
     "execution_count": 58,
     "metadata": {},
     "output_type": "execute_result"
    }
   ],
   "source": [
    "Sum_TFIDFvis"
   ]
  },
  {
   "cell_type": "markdown",
   "metadata": {},
   "source": [
    "<b> Resolution Text"
   ]
  },
  {
   "cell_type": "code",
   "execution_count": null,
   "metadata": {},
   "outputs": [],
   "source": []
  }
 ],
 "metadata": {
  "kernelspec": {
   "display_name": "Python 3 (ipykernel)",
   "language": "python",
   "name": "python3"
  },
  "language_info": {
   "codemirror_mode": {
    "name": "ipython",
    "version": 3
   },
   "file_extension": ".py",
   "mimetype": "text/x-python",
   "name": "python",
   "nbconvert_exporter": "python",
   "pygments_lexer": "ipython3",
   "version": "3.7.4"
  }
 },
 "nbformat": 4,
 "nbformat_minor": 4
}
